{
 "cells": [
  {
   "cell_type": "markdown",
   "metadata": {},
   "source": [
    "# WeatherPy\n",
    "----\n",
    "\n",
    "#### Note\n",
    "* Instructions have been included for each segment. You do not have to follow them exactly, but they are included to help you think through the steps."
   ]
  },
  {
   "cell_type": "code",
   "execution_count": 1,
   "metadata": {
    "scrolled": true
   },
   "outputs": [],
   "source": [
    "import requests\n",
    "import json\n",
    "import pandas as pd\n",
    "import numpy as np\n",
    "import matplotlib.pyplot as plt\n",
    "from pprint import pprint\n",
    "from citipy import citipy\n",
    "from api_keys import weather_api_key\n",
    "from scipy.stats import linregress\n",
    "import scipy.stats as st\n"
   ]
  },
  {
   "cell_type": "code",
   "execution_count": 2,
   "metadata": {},
   "outputs": [],
   "source": [
    "api_key = weather_api_key\n",
    "city_name = \"London\"\n",
    "url = f\"https://api.openweathermap.org/data/2.5/weather?&appid={api_key}&units=Imperial\"\n",
    "\n"
   ]
  },
  {
   "cell_type": "code",
   "execution_count": 3,
   "metadata": {},
   "outputs": [
    {
     "data": {
      "text/plain": [
       "{'coord': {'lon': -0.1257, 'lat': 51.5085},\n",
       " 'weather': [{'id': 802,\n",
       "   'main': 'Clouds',\n",
       "   'description': 'scattered clouds',\n",
       "   'icon': '03d'}],\n",
       " 'base': 'stations',\n",
       " 'main': {'temp': 72.81,\n",
       "  'feels_like': 72.52,\n",
       "  'temp_min': 68.7,\n",
       "  'temp_max': 76.05,\n",
       "  'pressure': 1012,\n",
       "  'humidity': 58},\n",
       " 'visibility': 10000,\n",
       " 'wind': {'speed': 16.11, 'deg': 220},\n",
       " 'clouds': {'all': 40},\n",
       " 'dt': 1629035835,\n",
       " 'sys': {'type': 2,\n",
       "  'id': 2006068,\n",
       "  'country': 'GB',\n",
       "  'sunrise': 1629002776,\n",
       "  'sunset': 1629055436},\n",
       " 'timezone': 3600,\n",
       " 'id': 2643743,\n",
       " 'name': 'London',\n",
       " 'cod': 200}"
      ]
     },
     "execution_count": 3,
     "metadata": {},
     "output_type": "execute_result"
    }
   ],
   "source": [
    "requests.get(url+\"&q=\"+city_name).json()"
   ]
  },
  {
   "cell_type": "markdown",
   "metadata": {},
   "source": [
    "## Generate Cities List"
   ]
  },
  {
   "cell_type": "code",
   "execution_count": 4,
   "metadata": {},
   "outputs": [
    {
     "name": "stdout",
     "output_type": "stream",
     "text": [
      "615\n",
      "['kaitangata', 'zaysan', 'zhetybay', 'bengkulu', 'esperance', 'nouadhibou', 'guanare', 'albany', 'nikolskoye', 'bereda', 'meadow lake', 'bluff', 'port alfred', 'ushuaia', 'bandarbeyla', 'asau', 'ahipara', 'coquimbo', 'vaini', 'busselton', 'broome', 'cape town', 'faanui', 'puerto ayora', 'louisbourg', 'miastko', 'rock sound', 'mataura', 'soddy-daisy', 'torbay', 'port-gentil', 'karaul', 'port elizabeth', 'qarqin', 'qaanaaq', 'chokurdakh', 'jatara', 'sassandra', 'hobyo', 'fenoarivo', 'tsihombe', 'conakry', 'kisaran', 'jamestown', 'cap malheureux', 'ponta do sol', 'airai', 'new norfolk', 'rikitea', 'dikson', 'chuy', 'pevek', 'dryden', 'peniche', 'cabo san lucas', 'haysyn', 'arraial do cabo', 'mount gambier', 'bira', 'victoria', 'ballina', 'ures', 'cayenne', 'kapaa', 'meulaboh', 'yulara', 'saskylakh', 'birao', 'magna', 'bilibino', 'saint anthony', 'japura', 'punta arenas', 'lavrentiya', 'faya', 'naze', 'hobart', 'vrangel', 'puksoozero', 'ulaangom', 'souillac', 'sentyabrskiy', 'thap than', 'fort nelson', 'sur', 'adrar', 'segou', 'turka', 'sambava', 'tuatapere', 'minot', 'avera', 'provideniya', 'oriximina', 'yellowknife', 'carnarvon', 'hithadhoo', 'pachperwa', 'egvekinot', 'utiroa', 'goderich', 'lazaro cardenas', 'yenagoa', 'kadoma', 'lujan', 'edson', 'stornoway', 'georgetown', 'cherskiy', 'lagoa', 'ust-shonosha', 'saint-philippe', 'atuona', 'grindavik', 'ahuimanu', 'butaritari', 'opole lubelskie', 'meyungs', 'santa luzia', 'nelson bay', 'paamiut', 'wollongong', 'mahebourg', 'campobasso', 'lata', 'shamkhal', 'mehamn', 'vardo', 'charlestown', 'taolanaro', 'klaksvik', 'iquique', 'xai-xai', 'osa', 'kathu', 'papara', 'salamiyah', 'tiarei', 'kasempa', 'san patricio', 'kiruna', 'hagere selam', 'luanda', 'darnah', 'tuktoyaktuk', 'marystown', 'mehran', 'kupang', 'barrow', 'belushya guba', 'rancharia', 'mar del plata', 'east london', 'thaton', 'cockburn town', 'otavi', 'bambous virieux', 'komsomolskiy', 'bonavista', 'avarua', 'sao miguel do araguaia', 'lasa', 'ponta delgada', 'thomasville', 'lethem', 'cidreira', 'breytovo', 'millinocket', 'banda aceh', 'nome', 'paciran', 'zharkovskiy', 'illoqqortoormiut', 'golden rock', 'georgiyevka', 'leningradskiy', 'atar', 'alekseyevsk', 'hermanus', 'lebu', 'lorengau', 'sao jose da coroa grande', 'dukat', 'smiltene', 'killybegs', 'mayumba', 'lompoc', 'la ronge', 'longyearbyen', 'cape canaveral', 'severo-kurilsk', 'pisco', 'plouzane', 'ostrovnoy', 'xushan', 'hilo', 'talnakh', 'astoria', 'azimur', 'charters towers', 'trairi', 'barentsburg', 'kazalinsk', 'taoudenni', 'pacific grove', 'maningrida', 'nemuro', 'qaqortoq', 'hasaki', 'skibbereen', 'muli', 'mount isa', 'inderborskiy', 'bethel', 'vestmannaeyjar', 'kushmurun', 'zhigansk', 'nanortalik', 'siirt', 'belmonte', 'bath', 'herat', 'toamasina', 'pulivendla', 'doka', 'guerrero negro', 'turukhansk', 'turayf', 'manokwari', 'port lincoln', 'dubbo', 'buritizeiro', 'constitucion', 'ca mau', 'ancud', 'grand river south east', 'salalah', 'veraval', 'codrington', 'wadi maliz', 'clyde river', 'safford', 'havelock', 'tiksi', 'nizhneyansk', 'bredasdorp', 'corning', 'denpasar', 'mayo', 'simbahan', 'smithers', 'alugan', 'noumea', 'krasnoselkup', 'auki', 'pimampiro', 'sembe', 'san ramon', 'sitka', 'soyo', 'ulladulla', 'itarema', 'lilongwe', 'qeshm', 'pochutla', 'harper', 'arak', 'palabuhanratu', 'sao filipe', 'morondava', 'manicore', 'kiama', 'seydisehir', 'fortuna', 'kruisfontein', 'wetaskiwin', 'muscat', 'hami', 'port hedland', 'goundam', 'araouane', 'yermakovskoye', 'praya', 'sokoni', 'fort saint john', 'marathon', 'los llanos de aridane', 'tiznit', 'maniitsoq', 'gimli', 'natal', 'houma', 'buala', 'goroka', 'srostki', 'antsohihy', 'evensk', 'hare bay', 'bronnoysund', 'bathsheba', 'mabaruma', 'satitoa', 'thompson', 'hemsedal', 'luoyang', 'barabai', 'castro', 'dunda', 'marcona', 'pafos', 'kodiak', 'berdigestyakh', 'salinopolis', 'roald', 'sale', 'viligili', 'juxian', 'joshimath', 'dunedin', 'kostomuksha', 'catuday', 'irbeyskoye', 'quatre cocos', 'visnes', 'mackay', 'aklavik', 'vaitupu', 'te anau', 'jalu', 'hambantota', 'shorewood', 'caravelas', 'bensonville', 'sao joao da barra', 'kingisepp', 'topchanchi', 'kasumkent', 'kendari', 'bako', 'buraydah', 'kloulklubed', 'aksarka', 'tabas', 'samusu', 'podporozhye', 'stoyba', 'poronaysk', 'shiloh', 'katherine', 'yarada', 'korla', 'labuhan', 'vila velha', 'oppdal', 'alfenas', 'ondjiva', 'mbanza-ngungu', 'yar-sale', 'juneau', 'san jose', 'saint george', 'ewa beach', 'seydi', 'erzin', 'moose factory', 'palmer', 'vila franca do campo', 'tasiilaq', 'ust-tsilma', 'norman wells', 'attawapiskat', 'sinnamary', 'santa isabel', 'linqiong', 'vao', 'loandjili', 'gravdal', 'tessalit', 'chabahar', 'xining', 'kovdor', 'superior', 'omboue', 'glace bay', 'beloha', 'daokou', 'mys shmidta', 'waw', 'sacile', 'shimoda', 'kavieng', 'jiddah', 'batemans bay', 'jasper', 'fort-shevchenko', 'le port', 'berezovyy', 'necochea', 'mecca', 'owando', 'sumbe', 'oussouye', 'russas', 'tumannyy', 'umm ruwabah', 'beringovskiy', 'gonbad-e qabus', 'energeticheskiy', 'petropavlovsk-kamchatskiy', 'svetlyy', 'basna', 'kahului', 'svrljig', 'talcahuano', 'obera', 'iberia', 'farafangana', 'lusaka', 'dingle', 'mae hong son', 'shaowu', 'mudgee', 'khonuu', 'arman', 'russellville', 'flinders', 'chapais', 'san andres', 'nador', 'benton', 'khatanga', 'saint-pierre', 'dundalk', 'rocha', 'geraldton', 'samarai', 'iskateley', 'chirongui', 'alofi', 'kalininsk', 'burica', 'narsaq', 'rawson', 'mumbwa', 'ust-kuyga', 'haines junction', 'fare', 'erenhot', 'half moon bay', 'monrovia', 'broken hill', 'kankakee', 'port blair', 'temnikov', 'hay river', 'shache', 'ilulissat', 'padang', 'iqaluit', 'la union', 'warri', 'sorong', 'saleaula', 'fairbanks', 'saint-joseph', 'casino', 'narwar', 'lamu', 'borodino', 'bagdarin', 'amderma', 'saint-augustin', 'kingman', 'okhotsk', 'ribeira grande', 'boa vista', 'shchuchye', 'liku', 'zhangye', 'novyy urengoy', 'kutum', 'vanimo', 'kitama', 'constantine', 'touros', 'penzance', 'kozyatyn', 'almaznyy', 'leshukonskoye', 'bobo dioulasso', 'mao', 'slave lake', 'kargil', 'shingu', 'husavik', 'santa barbara', 'bismarck', 'yaan', 'yunjinghong', 'malanje', 'beira', 'upernavik', 'kamina', 'rungata', 'krasnyy yar', 'pangnirtung', 'daru', 'luderitz', 'praia da vitoria', 'palauig', 'tambovka', 'honningsvag', 'shangzhi', 'fianga', 'santa isabel do rio negro', 'san pedro de macoris', 'urengoy', 'sweetwater', 'san lorenzo', 'huangmei', 'salekhard', 'sioux lookout', 'hamilton', 'marzuq', 'de-kastri', 'gurmatkal', 'dzhebariki-khaya', 'urucara', 'gedo', 'chernyshevskiy', 'neuquen', 'kuytun', 'da lat', 'prainha', 'fez', 'benjamin constant', 'matara', 'namibe', 'irbil', 'ginda', 'areosa', 'maltahohe', 'poum', 'gubakha', 'siavonga', 'aquiraz', 'mahon', 'zaranj', 'rio gallegos', 'huilong', 'bakel', 'saint-georges', 'gander', 'dolores', 'hastings', 'santa fe', 'porto santo', 'ola', 'arona', 'parabel', 'razole', 'henties bay', 'marsh harbour', 'burnie', 'plavinas', 'bolungarvik', 'srednekolymsk', 'ayan', 'bud', 'haysville', 'west bay', 'bhander', 'baherden', 'nyagan', 'panama city', 'palana', 'inhambane', 'puyang', 'sarakhs', 'kovur', 'halalo', 'dicabisagan', 'camacha', 'kununurra', 'lubao', 'ilhabela', 'ampanihy', 'katsuura', 'hearst', 'kataysk', 'mandal', 'mbandaka', 'nerchinskiy zavod', 'suoyarvi', 'macapa', 'saldanha', 'notodden', 'anadyr', 'hofn', 'gharo', 'tura', 'novobirilyussy', 'northam', 'tilichiki', 'levelland', 'kapit', 'dinard', 'amberley', 'marsa matruh', 'comodoro rivadavia', 'minab', 'dezful', 'stony plain', 'roebourne', 'araioses']\n"
     ]
    }
   ],
   "source": [
    "# Range of latitudes and longitudes\n",
    "lat_range = (-90, 90)\n",
    "lng_range = (-180, 180)\n",
    "\n",
    "# List for holding lat_lngs and cities\n",
    "lat_lngs = []\n",
    "cities = []\n",
    "\n",
    "# Create a set of random lat and lng combinations\n",
    "lats = np.random.uniform(lat_range[0], lat_range[1], size=1500)\n",
    "lngs = np.random.uniform(lng_range[0], lng_range[1], size=1500)\n",
    "lat_lngs = zip(lats, lngs)\n",
    "\n",
    "# Identify nearest city for each lat, lng combination\n",
    "for lat_lng in lat_lngs:\n",
    "    city = citipy.nearest_city(lat_lng[0], lat_lng[1]).city_name\n",
    "    \n",
    "    # If the city is unique, then add it to a our cities list\n",
    "    if city not in cities:\n",
    "        cities.append(city)\n",
    "\n",
    "# Print the city count to confirm sufficient count\n",
    "print(len(cities))\n",
    "\n",
    "print(cities)\n",
    "\n",
    "\n"
   ]
  },
  {
   "cell_type": "code",
   "execution_count": 5,
   "metadata": {},
   "outputs": [
    {
     "data": {
      "text/plain": [
       "{'cod': '400', 'message': 'Nothing to geocode'}"
      ]
     },
     "execution_count": 5,
     "metadata": {},
     "output_type": "execute_result"
    }
   ],
   "source": [
    "requests.get(url).json()"
   ]
  },
  {
   "cell_type": "markdown",
   "metadata": {},
   "source": [
    "### Perform API Calls\n",
    "* Perform a weather check on each city using a series of successive API calls.\n",
    "* Include a print log of each city as it'sbeing processed (with the city number and city name).\n"
   ]
  },
  {
   "cell_type": "code",
   "execution_count": 6,
   "metadata": {
    "scrolled": true
   },
   "outputs": [
    {
     "name": "stdout",
     "output_type": "stream",
     "text": [
      "Processing record 1|kaitangata\n",
      "Processing record 2|zaysan\n",
      "City Not Found, Skip\n",
      "Processing record 3|bengkulu\n",
      "Processing record 4|esperance\n",
      "Processing record 5|nouadhibou\n",
      "Processing record 6|guanare\n",
      "Processing record 7|albany\n",
      "Processing record 8|nikolskoye\n",
      "Processing record 9|bereda\n",
      "Processing record 10|meadow lake\n",
      "Processing record 11|bluff\n",
      "Processing record 12|port alfred\n",
      "Processing record 13|ushuaia\n",
      "Processing record 14|bandarbeyla\n",
      "Processing record 15|asau\n",
      "Processing record 16|ahipara\n",
      "Processing record 17|coquimbo\n",
      "Processing record 18|vaini\n",
      "Processing record 19|busselton\n",
      "Processing record 20|broome\n",
      "Processing record 21|cape town\n",
      "Processing record 22|faanui\n",
      "Processing record 23|puerto ayora\n",
      "City Not Found, Skip\n",
      "Processing record 24|miastko\n",
      "Processing record 25|rock sound\n",
      "Processing record 26|mataura\n",
      "Processing record 27|soddy-daisy\n",
      "Processing record 28|torbay\n",
      "Processing record 29|port-gentil\n",
      "City Not Found, Skip\n",
      "Processing record 30|port elizabeth\n",
      "Processing record 31|qarqin\n",
      "Processing record 32|qaanaaq\n",
      "Processing record 33|chokurdakh\n",
      "Processing record 34|jatara\n",
      "Processing record 35|sassandra\n",
      "Processing record 36|hobyo\n",
      "Processing record 37|fenoarivo\n",
      "City Not Found, Skip\n",
      "Processing record 38|conakry\n",
      "Processing record 39|kisaran\n",
      "Processing record 40|jamestown\n",
      "Processing record 41|cap malheureux\n",
      "Processing record 42|ponta do sol\n",
      "Processing record 43|airai\n",
      "Processing record 44|new norfolk\n",
      "Processing record 45|rikitea\n",
      "Processing record 46|dikson\n",
      "Processing record 47|chuy\n",
      "Processing record 48|pevek\n",
      "Processing record 49|dryden\n",
      "Processing record 50|peniche\n",
      "Processing record 51|cabo san lucas\n",
      "Processing record 52|haysyn\n",
      "Processing record 53|arraial do cabo\n",
      "Processing record 54|mount gambier\n",
      "Processing record 55|bira\n",
      "Processing record 56|victoria\n",
      "Processing record 57|ballina\n",
      "Processing record 58|ures\n",
      "Processing record 59|cayenne\n",
      "Processing record 60|kapaa\n",
      "Processing record 61|meulaboh\n",
      "Processing record 62|yulara\n",
      "Processing record 63|saskylakh\n",
      "Processing record 64|birao\n",
      "Processing record 65|magna\n",
      "Processing record 66|bilibino\n",
      "Processing record 67|saint anthony\n",
      "Processing record 68|japura\n",
      "Processing record 69|punta arenas\n",
      "Processing record 70|lavrentiya\n",
      "Processing record 71|faya\n",
      "Processing record 72|naze\n",
      "Processing record 73|hobart\n",
      "Processing record 74|vrangel\n",
      "Processing record 75|puksoozero\n",
      "Processing record 76|ulaangom\n",
      "Processing record 77|souillac\n",
      "City Not Found, Skip\n",
      "Processing record 78|thap than\n",
      "Processing record 79|fort nelson\n",
      "Processing record 80|sur\n",
      "Processing record 81|adrar\n",
      "Processing record 82|segou\n",
      "Processing record 83|turka\n",
      "Processing record 84|sambava\n",
      "Processing record 85|tuatapere\n",
      "Processing record 86|minot\n",
      "Processing record 87|avera\n",
      "Processing record 88|provideniya\n",
      "Processing record 89|oriximina\n",
      "Processing record 90|yellowknife\n",
      "Processing record 91|carnarvon\n",
      "Processing record 92|hithadhoo\n",
      "Processing record 93|pachperwa\n",
      "Processing record 94|egvekinot\n",
      "City Not Found, Skip\n",
      "Processing record 95|goderich\n",
      "Processing record 96|lazaro cardenas\n",
      "Processing record 97|yenagoa\n",
      "Processing record 98|kadoma\n",
      "Processing record 99|lujan\n",
      "Processing record 100|edson\n",
      "Processing record 101|stornoway\n",
      "Processing record 102|georgetown\n",
      "Processing record 103|cherskiy\n",
      "Processing record 104|lagoa\n",
      "Processing record 105|ust-shonosha\n",
      "Processing record 106|saint-philippe\n",
      "Processing record 107|atuona\n",
      "Processing record 108|grindavik\n",
      "Processing record 109|ahuimanu\n",
      "Processing record 110|butaritari\n",
      "Processing record 111|opole lubelskie\n",
      "City Not Found, Skip\n",
      "Processing record 112|santa luzia\n",
      "Processing record 113|nelson bay\n",
      "Processing record 114|paamiut\n",
      "Processing record 115|wollongong\n",
      "Processing record 116|mahebourg\n",
      "Processing record 117|campobasso\n",
      "Processing record 118|lata\n",
      "Processing record 119|shamkhal\n",
      "Processing record 120|mehamn\n",
      "Processing record 121|vardo\n",
      "Processing record 122|charlestown\n",
      "City Not Found, Skip\n",
      "Processing record 123|klaksvik\n",
      "Processing record 124|iquique\n",
      "Processing record 125|xai-xai\n",
      "Processing record 126|osa\n",
      "Processing record 127|kathu\n",
      "Processing record 128|papara\n",
      "Processing record 129|salamiyah\n",
      "Processing record 130|tiarei\n",
      "Processing record 131|kasempa\n",
      "Processing record 132|san patricio\n",
      "Processing record 133|kiruna\n",
      "Processing record 134|hagere selam\n",
      "Processing record 135|luanda\n",
      "Processing record 136|darnah\n",
      "Processing record 137|tuktoyaktuk\n",
      "Processing record 138|marystown\n",
      "Processing record 139|mehran\n",
      "Processing record 140|kupang\n",
      "Processing record 141|barrow\n",
      "City Not Found, Skip\n",
      "Processing record 142|rancharia\n",
      "Processing record 143|mar del plata\n",
      "Processing record 144|east london\n",
      "Processing record 145|thaton\n",
      "Processing record 146|cockburn town\n",
      "Processing record 147|otavi\n",
      "Processing record 148|bambous virieux\n",
      "Processing record 149|komsomolskiy\n",
      "Processing record 150|bonavista\n",
      "Processing record 151|avarua\n",
      "Processing record 152|sao miguel do araguaia\n",
      "Processing record 153|lasa\n",
      "Processing record 154|ponta delgada\n",
      "Processing record 155|thomasville\n",
      "Processing record 156|lethem\n",
      "Processing record 157|cidreira\n",
      "Processing record 158|breytovo\n",
      "Processing record 159|millinocket\n",
      "Processing record 160|banda aceh\n",
      "Processing record 161|nome\n",
      "Processing record 162|paciran\n",
      "Processing record 163|zharkovskiy\n",
      "City Not Found, Skip\n",
      "City Not Found, Skip\n",
      "Processing record 164|georgiyevka\n",
      "Processing record 165|leningradskiy\n",
      "Processing record 166|atar\n",
      "Processing record 167|alekseyevsk\n",
      "Processing record 168|hermanus\n",
      "Processing record 169|lebu\n",
      "Processing record 170|lorengau\n",
      "Processing record 171|sao jose da coroa grande\n",
      "Processing record 172|dukat\n",
      "Processing record 173|smiltene\n",
      "Processing record 174|killybegs\n",
      "Processing record 175|mayumba\n",
      "Processing record 176|lompoc\n",
      "Processing record 177|la ronge\n",
      "Processing record 178|longyearbyen\n",
      "Processing record 179|cape canaveral\n",
      "Processing record 180|severo-kurilsk\n",
      "Processing record 181|pisco\n",
      "Processing record 182|plouzane\n",
      "Processing record 183|ostrovnoy\n",
      "Processing record 184|xushan\n",
      "Processing record 185|hilo\n",
      "Processing record 186|talnakh\n",
      "Processing record 187|astoria\n",
      "City Not Found, Skip\n",
      "Processing record 188|charters towers\n",
      "Processing record 189|trairi\n",
      "City Not Found, Skip\n",
      "City Not Found, Skip\n",
      "Processing record 190|taoudenni\n",
      "Processing record 191|pacific grove\n",
      "Processing record 192|maningrida\n",
      "Processing record 193|nemuro\n",
      "Processing record 194|qaqortoq\n",
      "Processing record 195|hasaki\n",
      "Processing record 196|skibbereen\n",
      "Processing record 197|muli\n",
      "Processing record 198|mount isa\n",
      "City Not Found, Skip\n",
      "Processing record 199|bethel\n",
      "Processing record 200|vestmannaeyjar\n",
      "Processing record 201|kushmurun\n",
      "Processing record 202|zhigansk\n",
      "Processing record 203|nanortalik\n",
      "Processing record 204|siirt\n",
      "Processing record 205|belmonte\n",
      "Processing record 206|bath\n",
      "Processing record 207|herat\n",
      "Processing record 208|toamasina\n",
      "Processing record 209|pulivendla\n",
      "Processing record 210|doka\n",
      "Processing record 211|guerrero negro\n",
      "Processing record 212|turukhansk\n",
      "Processing record 213|turayf\n",
      "Processing record 214|manokwari\n",
      "Processing record 215|port lincoln\n",
      "Processing record 216|dubbo\n",
      "Processing record 217|buritizeiro\n",
      "Processing record 218|constitucion\n",
      "Processing record 219|ca mau\n",
      "Processing record 220|ancud\n",
      "City Not Found, Skip\n",
      "Processing record 221|salalah\n",
      "Processing record 222|veraval\n",
      "Processing record 223|codrington\n",
      "Processing record 224|wadi maliz\n",
      "Processing record 225|clyde river\n",
      "Processing record 226|safford\n",
      "Processing record 227|havelock\n",
      "Processing record 228|tiksi\n",
      "City Not Found, Skip\n",
      "Processing record 229|bredasdorp\n",
      "Processing record 230|corning\n",
      "Processing record 231|denpasar\n",
      "Processing record 232|mayo\n",
      "Processing record 233|simbahan\n",
      "Processing record 234|smithers\n",
      "Processing record 235|alugan\n",
      "Processing record 236|noumea\n",
      "Processing record 237|krasnoselkup\n",
      "Processing record 238|auki\n",
      "Processing record 239|pimampiro\n",
      "Processing record 240|sembe\n",
      "Processing record 241|san ramon\n",
      "Processing record 242|sitka\n",
      "Processing record 243|soyo\n",
      "Processing record 244|ulladulla\n",
      "Processing record 245|itarema\n",
      "Processing record 246|lilongwe\n",
      "Processing record 247|qeshm\n",
      "Processing record 248|pochutla\n",
      "Processing record 249|harper\n",
      "Processing record 250|arak\n",
      "City Not Found, Skip\n",
      "Processing record 251|sao filipe\n",
      "Processing record 252|morondava\n",
      "Processing record 253|manicore\n",
      "Processing record 254|kiama\n",
      "Processing record 255|seydisehir\n"
     ]
    },
    {
     "name": "stdout",
     "output_type": "stream",
     "text": [
      "Processing record 256|fortuna\n",
      "Processing record 257|kruisfontein\n",
      "Processing record 258|wetaskiwin\n",
      "Processing record 259|muscat\n",
      "Processing record 260|hami\n",
      "Processing record 261|port hedland\n",
      "Processing record 262|goundam\n",
      "Processing record 263|araouane\n",
      "Processing record 264|yermakovskoye\n",
      "Processing record 265|praya\n",
      "Processing record 266|sokoni\n",
      "City Not Found, Skip\n",
      "Processing record 267|marathon\n",
      "Processing record 268|los llanos de aridane\n",
      "Processing record 269|tiznit\n",
      "Processing record 270|maniitsoq\n",
      "Processing record 271|gimli\n",
      "Processing record 272|natal\n",
      "Processing record 273|houma\n",
      "Processing record 274|buala\n",
      "Processing record 275|goroka\n",
      "Processing record 276|srostki\n",
      "Processing record 277|antsohihy\n",
      "Processing record 278|evensk\n",
      "Processing record 279|hare bay\n",
      "Processing record 280|bronnoysund\n",
      "Processing record 281|bathsheba\n",
      "Processing record 282|mabaruma\n",
      "City Not Found, Skip\n",
      "Processing record 283|thompson\n",
      "Processing record 284|hemsedal\n",
      "Processing record 285|luoyang\n",
      "Processing record 286|barabai\n",
      "Processing record 287|castro\n",
      "Processing record 288|dunda\n",
      "City Not Found, Skip\n",
      "Processing record 289|pafos\n",
      "Processing record 290|kodiak\n",
      "Processing record 291|berdigestyakh\n",
      "Processing record 292|salinopolis\n",
      "Processing record 293|roald\n",
      "Processing record 294|sale\n",
      "City Not Found, Skip\n",
      "City Not Found, Skip\n",
      "Processing record 295|joshimath\n",
      "Processing record 296|dunedin\n",
      "Processing record 297|kostomuksha\n",
      "Processing record 298|catuday\n",
      "Processing record 299|irbeyskoye\n",
      "Processing record 300|quatre cocos\n",
      "Processing record 301|visnes\n",
      "Processing record 302|mackay\n",
      "Processing record 303|aklavik\n",
      "City Not Found, Skip\n",
      "Processing record 304|te anau\n",
      "Processing record 305|jalu\n",
      "Processing record 306|hambantota\n",
      "Processing record 307|shorewood\n",
      "Processing record 308|caravelas\n",
      "Processing record 309|bensonville\n",
      "Processing record 310|sao joao da barra\n",
      "Processing record 311|kingisepp\n",
      "Processing record 312|topchanchi\n",
      "Processing record 313|kasumkent\n",
      "Processing record 314|kendari\n",
      "Processing record 315|bako\n",
      "Processing record 316|buraydah\n",
      "Processing record 317|kloulklubed\n",
      "Processing record 318|aksarka\n",
      "Processing record 319|tabas\n",
      "City Not Found, Skip\n",
      "Processing record 320|podporozhye\n",
      "City Not Found, Skip\n",
      "Processing record 321|poronaysk\n",
      "Processing record 322|shiloh\n",
      "Processing record 323|katherine\n",
      "Processing record 324|yarada\n",
      "Processing record 325|korla\n",
      "Processing record 326|labuhan\n",
      "Processing record 327|vila velha\n",
      "Processing record 328|oppdal\n",
      "Processing record 329|alfenas\n",
      "Processing record 330|ondjiva\n",
      "Processing record 331|mbanza-ngungu\n",
      "Processing record 332|yar-sale\n",
      "Processing record 333|juneau\n",
      "Processing record 334|san jose\n",
      "Processing record 335|saint george\n",
      "Processing record 336|ewa beach\n",
      "Processing record 337|seydi\n",
      "Processing record 338|erzin\n",
      "Processing record 339|moose factory\n",
      "Processing record 340|palmer\n",
      "Processing record 341|vila franca do campo\n",
      "Processing record 342|tasiilaq\n",
      "Processing record 343|ust-tsilma\n",
      "Processing record 344|norman wells\n",
      "City Not Found, Skip\n",
      "Processing record 345|sinnamary\n",
      "Processing record 346|santa isabel\n",
      "Processing record 347|linqiong\n",
      "Processing record 348|vao\n",
      "Processing record 349|loandjili\n",
      "Processing record 350|gravdal\n",
      "Processing record 351|tessalit\n",
      "Processing record 352|chabahar\n",
      "Processing record 353|xining\n",
      "Processing record 354|kovdor\n",
      "Processing record 355|superior\n",
      "Processing record 356|omboue\n",
      "Processing record 357|glace bay\n",
      "Processing record 358|beloha\n",
      "Processing record 359|daokou\n",
      "City Not Found, Skip\n",
      "Processing record 360|waw\n",
      "Processing record 361|sacile\n",
      "Processing record 362|shimoda\n",
      "Processing record 363|kavieng\n",
      "City Not Found, Skip\n",
      "Processing record 364|batemans bay\n",
      "Processing record 365|jasper\n",
      "Processing record 366|fort-shevchenko\n",
      "Processing record 367|le port\n",
      "Processing record 368|berezovyy\n",
      "Processing record 369|necochea\n",
      "Processing record 370|mecca\n",
      "Processing record 371|owando\n",
      "Processing record 372|sumbe\n",
      "Processing record 373|oussouye\n",
      "Processing record 374|russas\n",
      "City Not Found, Skip\n",
      "City Not Found, Skip\n",
      "Processing record 375|beringovskiy\n",
      "Processing record 376|gonbad-e qabus\n",
      "Processing record 377|energeticheskiy\n",
      "Processing record 378|petropavlovsk-kamchatskiy\n",
      "Processing record 379|svetlyy\n",
      "Processing record 380|basna\n",
      "Processing record 381|kahului\n",
      "Processing record 382|svrljig\n",
      "Processing record 383|talcahuano\n",
      "Processing record 384|obera\n",
      "Processing record 385|iberia\n",
      "Processing record 386|farafangana\n",
      "Processing record 387|lusaka\n",
      "Processing record 388|dingle\n",
      "Processing record 389|mae hong son\n",
      "Processing record 390|shaowu\n",
      "Processing record 391|mudgee\n",
      "City Not Found, Skip\n",
      "Processing record 392|arman\n",
      "Processing record 393|russellville\n",
      "Processing record 394|flinders\n",
      "Processing record 395|chapais\n",
      "Processing record 396|san andres\n",
      "Processing record 397|nador\n",
      "Processing record 398|benton\n",
      "Processing record 399|khatanga\n",
      "Processing record 400|saint-pierre\n",
      "Processing record 401|dundalk\n",
      "Processing record 402|rocha\n",
      "Processing record 403|geraldton\n",
      "Processing record 404|samarai\n",
      "Processing record 405|iskateley\n",
      "Processing record 406|chirongui\n",
      "Processing record 407|alofi\n",
      "Processing record 408|kalininsk\n",
      "City Not Found, Skip\n",
      "Processing record 409|narsaq\n",
      "Processing record 410|rawson\n",
      "Processing record 411|mumbwa\n",
      "Processing record 412|ust-kuyga\n",
      "Processing record 413|haines junction\n",
      "Processing record 414|fare\n",
      "Processing record 415|erenhot\n",
      "Processing record 416|half moon bay\n",
      "Processing record 417|monrovia\n",
      "Processing record 418|broken hill\n",
      "Processing record 419|kankakee\n",
      "Processing record 420|port blair\n",
      "Processing record 421|temnikov\n",
      "Processing record 422|hay river\n",
      "Processing record 423|shache\n",
      "Processing record 424|ilulissat\n",
      "Processing record 425|padang\n",
      "Processing record 426|iqaluit\n",
      "Processing record 427|la union\n",
      "Processing record 428|warri\n",
      "Processing record 429|sorong\n",
      "City Not Found, Skip\n",
      "Processing record 430|fairbanks\n",
      "Processing record 431|saint-joseph\n",
      "Processing record 432|casino\n",
      "Processing record 433|narwar\n",
      "Processing record 434|lamu\n",
      "Processing record 435|borodino\n",
      "Processing record 436|bagdarin\n",
      "City Not Found, Skip\n",
      "Processing record 437|saint-augustin\n",
      "Processing record 438|kingman\n",
      "Processing record 439|okhotsk\n",
      "Processing record 440|ribeira grande\n",
      "Processing record 441|boa vista\n",
      "City Not Found, Skip\n",
      "Processing record 442|liku\n",
      "Processing record 443|zhangye\n",
      "Processing record 444|novyy urengoy\n",
      "Processing record 445|kutum\n",
      "Processing record 446|vanimo\n",
      "Processing record 447|kitama\n",
      "Processing record 448|constantine\n",
      "Processing record 449|touros\n",
      "Processing record 450|penzance\n",
      "Processing record 451|kozyatyn\n",
      "Processing record 452|almaznyy\n",
      "Processing record 453|leshukonskoye\n",
      "Processing record 454|bobo dioulasso\n",
      "Processing record 455|mao\n",
      "Processing record 456|slave lake\n",
      "Processing record 457|kargil\n",
      "Processing record 458|shingu\n",
      "Processing record 459|husavik\n",
      "Processing record 460|santa barbara\n",
      "Processing record 461|bismarck\n",
      "Processing record 462|yaan\n",
      "City Not Found, Skip\n",
      "Processing record 463|malanje\n",
      "Processing record 464|beira\n",
      "Processing record 465|upernavik\n",
      "Processing record 466|kamina\n",
      "City Not Found, Skip\n",
      "Processing record 467|krasnyy yar\n",
      "Processing record 468|pangnirtung\n",
      "Processing record 469|daru\n",
      "Processing record 470|luderitz\n",
      "Processing record 471|praia da vitoria\n",
      "Processing record 472|palauig\n",
      "Processing record 473|tambovka\n",
      "Processing record 474|honningsvag\n",
      "Processing record 475|shangzhi\n",
      "City Not Found, Skip\n",
      "Processing record 476|santa isabel do rio negro\n",
      "Processing record 477|san pedro de macoris\n",
      "Processing record 478|urengoy\n",
      "Processing record 479|sweetwater\n",
      "Processing record 480|san lorenzo\n",
      "Processing record 481|huangmei\n",
      "Processing record 482|salekhard\n",
      "Processing record 483|sioux lookout\n",
      "Processing record 484|hamilton\n",
      "Processing record 485|marzuq\n",
      "Processing record 486|de-kastri\n",
      "Processing record 487|gurmatkal\n",
      "Processing record 488|dzhebariki-khaya\n",
      "Processing record 489|urucara\n",
      "Processing record 490|gedo\n",
      "Processing record 491|chernyshevskiy\n",
      "Processing record 492|neuquen\n",
      "Processing record 493|kuytun\n",
      "Processing record 494|da lat\n",
      "Processing record 495|prainha\n",
      "Processing record 496|fez\n",
      "Processing record 497|benjamin constant\n",
      "Processing record 498|matara\n",
      "Processing record 499|namibe\n",
      "Processing record 500|irbil\n",
      "Processing record 501|ginda\n",
      "Processing record 502|areosa\n",
      "Processing record 503|maltahohe\n"
     ]
    },
    {
     "name": "stdout",
     "output_type": "stream",
     "text": [
      "Processing record 504|poum\n",
      "Processing record 505|gubakha\n",
      "Processing record 506|siavonga\n",
      "Processing record 507|aquiraz\n",
      "Processing record 508|mahon\n",
      "Processing record 509|zaranj\n",
      "Processing record 510|rio gallegos\n",
      "Processing record 511|huilong\n",
      "Processing record 512|bakel\n",
      "Processing record 513|saint-georges\n",
      "Processing record 514|gander\n",
      "Processing record 515|dolores\n",
      "Processing record 516|hastings\n",
      "Processing record 517|santa fe\n",
      "Processing record 518|porto santo\n",
      "Processing record 519|ola\n",
      "Processing record 520|arona\n",
      "Processing record 521|parabel\n",
      "Processing record 522|razole\n",
      "Processing record 523|henties bay\n",
      "Processing record 524|marsh harbour\n",
      "Processing record 525|burnie\n",
      "Processing record 526|plavinas\n",
      "City Not Found, Skip\n",
      "Processing record 527|srednekolymsk\n",
      "Processing record 528|ayan\n",
      "Processing record 529|bud\n",
      "Processing record 530|haysville\n",
      "Processing record 531|west bay\n",
      "Processing record 532|bhander\n",
      "Processing record 533|baherden\n",
      "Processing record 534|nyagan\n",
      "Processing record 535|panama city\n",
      "Processing record 536|palana\n",
      "Processing record 537|inhambane\n",
      "Processing record 538|puyang\n",
      "Processing record 539|sarakhs\n",
      "Processing record 540|kovur\n",
      "City Not Found, Skip\n",
      "Processing record 541|dicabisagan\n",
      "Processing record 542|camacha\n",
      "Processing record 543|kununurra\n",
      "Processing record 544|lubao\n",
      "Processing record 545|ilhabela\n",
      "Processing record 546|ampanihy\n",
      "Processing record 547|katsuura\n",
      "Processing record 548|hearst\n",
      "Processing record 549|kataysk\n",
      "Processing record 550|mandal\n",
      "Processing record 551|mbandaka\n",
      "Processing record 552|nerchinskiy zavod\n",
      "Processing record 553|suoyarvi\n",
      "Processing record 554|macapa\n",
      "Processing record 555|saldanha\n",
      "Processing record 556|notodden\n",
      "Processing record 557|anadyr\n",
      "Processing record 558|hofn\n",
      "Processing record 559|gharo\n",
      "Processing record 560|tura\n",
      "Processing record 561|novobirilyussy\n",
      "Processing record 562|northam\n",
      "Processing record 563|tilichiki\n",
      "Processing record 564|levelland\n",
      "Processing record 565|kapit\n",
      "Processing record 566|dinard\n",
      "Processing record 567|amberley\n",
      "Processing record 568|marsa matruh\n",
      "Processing record 569|comodoro rivadavia\n",
      "Processing record 570|minab\n",
      "Processing record 571|dezful\n",
      "Processing record 572|stony plain\n",
      "Processing record 573|roebourne\n",
      "Processing record 574|araioses\n"
     ]
    }
   ],
   "source": [
    "url = \"http://api.openweathermap.org/data/2.5/weather?units=Imperial&\"\n",
    "\n",
    "# set lists for the dataframe\n",
    "city_two = []\n",
    "cloudinesses = []\n",
    "dates = []\n",
    "humidities = []\n",
    "lats = []\n",
    "lngs = []\n",
    "max_temps = []\n",
    "wind_speeds = []\n",
    "countries = []\n",
    "\n",
    "#Looping through cities to make api calls using city as query\n",
    "i = 1\n",
    "for city in cities:\n",
    "    city=city\n",
    "    query_url = url + \"appid=\" + weather_api_key + \"&q=\" + city\n",
    "    response = requests.get(query_url).json()    \n",
    "    \n",
    "    try:\n",
    "        cloudinesses.append(response['clouds']['all'])\n",
    "        countries.append(response['sys']['country'])\n",
    "        dates.append(response['dt'])\n",
    "        humidities.append(response['main']['humidity'])\n",
    "        lats.append(response['coord']['lat'])\n",
    "        lngs.append(response['coord']['lon'])\n",
    "        max_temps.append(response['main']['temp_max'])\n",
    "        wind_speeds.append(response['wind']['speed'])\n",
    "        print(f\"Processing record {i}|{city}\")\n",
    "        i+=1\n",
    "    except (KeyError):\n",
    "        print(\"City Not Found, Skip\")"
   ]
  },
  {
   "cell_type": "code",
   "execution_count": 7,
   "metadata": {},
   "outputs": [
    {
     "data": {
      "text/html": [
       "<div>\n",
       "<style scoped>\n",
       "    .dataframe tbody tr th:only-of-type {\n",
       "        vertical-align: middle;\n",
       "    }\n",
       "\n",
       "    .dataframe tbody tr th {\n",
       "        vertical-align: top;\n",
       "    }\n",
       "\n",
       "    .dataframe thead th {\n",
       "        text-align: right;\n",
       "    }\n",
       "</style>\n",
       "<table border=\"1\" class=\"dataframe\">\n",
       "  <thead>\n",
       "    <tr style=\"text-align: right;\">\n",
       "      <th></th>\n",
       "      <th>City Name</th>\n",
       "      <th>Cloudiness</th>\n",
       "      <th>Country</th>\n",
       "      <th>Date</th>\n",
       "      <th>Humidity</th>\n",
       "      <th>Latitude</th>\n",
       "      <th>Longitude</th>\n",
       "      <th>Max Temp</th>\n",
       "      <th>Wind Speed</th>\n",
       "    </tr>\n",
       "  </thead>\n",
       "  <tbody>\n",
       "    <tr>\n",
       "      <th>0</th>\n",
       "      <td>London</td>\n",
       "      <td>45</td>\n",
       "      <td>NZ</td>\n",
       "      <td>1629035922</td>\n",
       "      <td>90</td>\n",
       "      <td>-46.2817</td>\n",
       "      <td>169.8464</td>\n",
       "      <td>40.87</td>\n",
       "      <td>5.39</td>\n",
       "    </tr>\n",
       "    <tr>\n",
       "      <th>1</th>\n",
       "      <td>London</td>\n",
       "      <td>40</td>\n",
       "      <td>KZ</td>\n",
       "      <td>1629035922</td>\n",
       "      <td>54</td>\n",
       "      <td>47.4667</td>\n",
       "      <td>84.8667</td>\n",
       "      <td>62.06</td>\n",
       "      <td>2.82</td>\n",
       "    </tr>\n",
       "    <tr>\n",
       "      <th>2</th>\n",
       "      <td>London</td>\n",
       "      <td>100</td>\n",
       "      <td>ID</td>\n",
       "      <td>1629035922</td>\n",
       "      <td>89</td>\n",
       "      <td>-3.8004</td>\n",
       "      <td>102.2655</td>\n",
       "      <td>77.18</td>\n",
       "      <td>3.47</td>\n",
       "    </tr>\n",
       "    <tr>\n",
       "      <th>3</th>\n",
       "      <td>London</td>\n",
       "      <td>0</td>\n",
       "      <td>AU</td>\n",
       "      <td>1629035923</td>\n",
       "      <td>81</td>\n",
       "      <td>-33.8667</td>\n",
       "      <td>121.9000</td>\n",
       "      <td>51.64</td>\n",
       "      <td>7.76</td>\n",
       "    </tr>\n",
       "    <tr>\n",
       "      <th>4</th>\n",
       "      <td>London</td>\n",
       "      <td>68</td>\n",
       "      <td>MR</td>\n",
       "      <td>1629035923</td>\n",
       "      <td>61</td>\n",
       "      <td>20.9310</td>\n",
       "      <td>-17.0347</td>\n",
       "      <td>82.38</td>\n",
       "      <td>11.50</td>\n",
       "    </tr>\n",
       "    <tr>\n",
       "      <th>5</th>\n",
       "      <td>London</td>\n",
       "      <td>99</td>\n",
       "      <td>VE</td>\n",
       "      <td>1629035923</td>\n",
       "      <td>100</td>\n",
       "      <td>9.0418</td>\n",
       "      <td>-69.7421</td>\n",
       "      <td>75.22</td>\n",
       "      <td>3.44</td>\n",
       "    </tr>\n",
       "    <tr>\n",
       "      <th>6</th>\n",
       "      <td>London</td>\n",
       "      <td>51</td>\n",
       "      <td>US</td>\n",
       "      <td>1629035880</td>\n",
       "      <td>66</td>\n",
       "      <td>42.6001</td>\n",
       "      <td>-73.9662</td>\n",
       "      <td>71.82</td>\n",
       "      <td>5.03</td>\n",
       "    </tr>\n",
       "    <tr>\n",
       "      <th>7</th>\n",
       "      <td>London</td>\n",
       "      <td>100</td>\n",
       "      <td>RU</td>\n",
       "      <td>1629035924</td>\n",
       "      <td>53</td>\n",
       "      <td>59.7035</td>\n",
       "      <td>30.7861</td>\n",
       "      <td>70.02</td>\n",
       "      <td>8.70</td>\n",
       "    </tr>\n",
       "    <tr>\n",
       "      <th>8</th>\n",
       "      <td>London</td>\n",
       "      <td>0</td>\n",
       "      <td>ES</td>\n",
       "      <td>1629035924</td>\n",
       "      <td>54</td>\n",
       "      <td>43.2686</td>\n",
       "      <td>-7.5406</td>\n",
       "      <td>78.15</td>\n",
       "      <td>6.55</td>\n",
       "    </tr>\n",
       "    <tr>\n",
       "      <th>9</th>\n",
       "      <td>London</td>\n",
       "      <td>95</td>\n",
       "      <td>US</td>\n",
       "      <td>1629035925</td>\n",
       "      <td>79</td>\n",
       "      <td>34.8014</td>\n",
       "      <td>-106.5436</td>\n",
       "      <td>67.69</td>\n",
       "      <td>1.14</td>\n",
       "    </tr>\n",
       "  </tbody>\n",
       "</table>\n",
       "</div>"
      ],
      "text/plain": [
       "  City Name  Cloudiness Country        Date  Humidity  Latitude  Longitude  \\\n",
       "0    London          45      NZ  1629035922        90  -46.2817   169.8464   \n",
       "1    London          40      KZ  1629035922        54   47.4667    84.8667   \n",
       "2    London         100      ID  1629035922        89   -3.8004   102.2655   \n",
       "3    London           0      AU  1629035923        81  -33.8667   121.9000   \n",
       "4    London          68      MR  1629035923        61   20.9310   -17.0347   \n",
       "5    London          99      VE  1629035923       100    9.0418   -69.7421   \n",
       "6    London          51      US  1629035880        66   42.6001   -73.9662   \n",
       "7    London         100      RU  1629035924        53   59.7035    30.7861   \n",
       "8    London           0      ES  1629035924        54   43.2686    -7.5406   \n",
       "9    London          95      US  1629035925        79   34.8014  -106.5436   \n",
       "\n",
       "   Max Temp  Wind Speed  \n",
       "0     40.87        5.39  \n",
       "1     62.06        2.82  \n",
       "2     77.18        3.47  \n",
       "3     51.64        7.76  \n",
       "4     82.38       11.50  \n",
       "5     75.22        3.44  \n",
       "6     71.82        5.03  \n",
       "7     70.02        8.70  \n",
       "8     78.15        6.55  \n",
       "9     67.69        1.14  "
      ]
     },
     "execution_count": 7,
     "metadata": {},
     "output_type": "execute_result"
    }
   ],
   "source": [
    "city_df = pd.DataFrame({\"City Name\":city_name, \"Cloudiness\":cloudinesses, \"Country\":countries, \"Date\":dates, \"Humidity\":humidities,\n",
    "                        \"Latitude\":lats,\n",
    "                        \"Longitude\":lngs,\n",
    "                        \"Max Temp\":max_temps,\n",
    "                        \"Wind Speed\":wind_speeds\n",
    "                                         })\n",
    "city_df.head(10)"
   ]
  },
  {
   "cell_type": "markdown",
   "metadata": {},
   "source": [
    "### Convert Raw Data to DataFrame\n",
    "* Export the city data into a .csv.\n",
    "* Display the DataFrame"
   ]
  },
  {
   "cell_type": "code",
   "execution_count": 8,
   "metadata": {},
   "outputs": [],
   "source": [
    "city_df.to_csv(index=False)\n",
    "# Output File (CSV)\n",
    "output_data_file = \"weather_city_file.csv\"\n",
    "city_df.to_csv(output_data_file)\n",
    "\n"
   ]
  },
  {
   "cell_type": "code",
   "execution_count": 9,
   "metadata": {},
   "outputs": [
    {
     "name": "stdout",
     "output_type": "stream",
     "text": [
      "<class 'pandas.core.frame.DataFrame'>\n",
      "RangeIndex: 574 entries, 0 to 573\n",
      "Data columns (total 9 columns):\n",
      " #   Column      Non-Null Count  Dtype  \n",
      "---  ------      --------------  -----  \n",
      " 0   City Name   574 non-null    object \n",
      " 1   Cloudiness  574 non-null    int64  \n",
      " 2   Country     574 non-null    object \n",
      " 3   Date        574 non-null    int64  \n",
      " 4   Humidity    574 non-null    int64  \n",
      " 5   Latitude    574 non-null    float64\n",
      " 6   Longitude   574 non-null    float64\n",
      " 7   Max Temp    574 non-null    float64\n",
      " 8   Wind Speed  574 non-null    float64\n",
      "dtypes: float64(4), int64(3), object(2)\n",
      "memory usage: 40.5+ KB\n"
     ]
    }
   ],
   "source": [
    "city_df.info()"
   ]
  },
  {
   "cell_type": "markdown",
   "metadata": {},
   "source": [
    "## Inspect the data and remove the cities where the humidity > 100%.\n",
    "----\n",
    "Skip this step if there are no cities that have humidity > 100%. "
   ]
  },
  {
   "cell_type": "code",
   "execution_count": 10,
   "metadata": {},
   "outputs": [
    {
     "data": {
      "text/html": [
       "<div>\n",
       "<style scoped>\n",
       "    .dataframe tbody tr th:only-of-type {\n",
       "        vertical-align: middle;\n",
       "    }\n",
       "\n",
       "    .dataframe tbody tr th {\n",
       "        vertical-align: top;\n",
       "    }\n",
       "\n",
       "    .dataframe thead th {\n",
       "        text-align: right;\n",
       "    }\n",
       "</style>\n",
       "<table border=\"1\" class=\"dataframe\">\n",
       "  <thead>\n",
       "    <tr style=\"text-align: right;\">\n",
       "      <th></th>\n",
       "      <th>City Name</th>\n",
       "      <th>Cloudiness</th>\n",
       "      <th>Country</th>\n",
       "      <th>Date</th>\n",
       "      <th>Humidity</th>\n",
       "      <th>Latitude</th>\n",
       "      <th>Longitude</th>\n",
       "      <th>Max Temp</th>\n",
       "      <th>Wind Speed</th>\n",
       "    </tr>\n",
       "  </thead>\n",
       "  <tbody>\n",
       "    <tr>\n",
       "      <th>142</th>\n",
       "      <td>London</td>\n",
       "      <td>90</td>\n",
       "      <td>AR</td>\n",
       "      <td>1629035973</td>\n",
       "      <td>100</td>\n",
       "      <td>-38.0023</td>\n",
       "      <td>-57.5575</td>\n",
       "      <td>42.82</td>\n",
       "      <td>5.75</td>\n",
       "    </tr>\n",
       "    <tr>\n",
       "      <th>89</th>\n",
       "      <td>London</td>\n",
       "      <td>75</td>\n",
       "      <td>CA</td>\n",
       "      <td>1629035954</td>\n",
       "      <td>100</td>\n",
       "      <td>62.4560</td>\n",
       "      <td>-114.3525</td>\n",
       "      <td>52.32</td>\n",
       "      <td>5.75</td>\n",
       "    </tr>\n",
       "    <tr>\n",
       "      <th>107</th>\n",
       "      <td>London</td>\n",
       "      <td>75</td>\n",
       "      <td>IS</td>\n",
       "      <td>1629035961</td>\n",
       "      <td>100</td>\n",
       "      <td>63.8424</td>\n",
       "      <td>-22.4338</td>\n",
       "      <td>53.56</td>\n",
       "      <td>12.66</td>\n",
       "    </tr>\n",
       "    <tr>\n",
       "      <th>5</th>\n",
       "      <td>London</td>\n",
       "      <td>99</td>\n",
       "      <td>VE</td>\n",
       "      <td>1629035923</td>\n",
       "      <td>100</td>\n",
       "      <td>9.0418</td>\n",
       "      <td>-69.7421</td>\n",
       "      <td>75.22</td>\n",
       "      <td>3.44</td>\n",
       "    </tr>\n",
       "    <tr>\n",
       "      <th>47</th>\n",
       "      <td>London</td>\n",
       "      <td>100</td>\n",
       "      <td>RU</td>\n",
       "      <td>1629035939</td>\n",
       "      <td>100</td>\n",
       "      <td>69.7008</td>\n",
       "      <td>170.3133</td>\n",
       "      <td>32.97</td>\n",
       "      <td>6.35</td>\n",
       "    </tr>\n",
       "    <tr>\n",
       "      <th>...</th>\n",
       "      <td>...</td>\n",
       "      <td>...</td>\n",
       "      <td>...</td>\n",
       "      <td>...</td>\n",
       "      <td>...</td>\n",
       "      <td>...</td>\n",
       "      <td>...</td>\n",
       "      <td>...</td>\n",
       "      <td>...</td>\n",
       "    </tr>\n",
       "    <tr>\n",
       "      <th>268</th>\n",
       "      <td>London</td>\n",
       "      <td>68</td>\n",
       "      <td>MA</td>\n",
       "      <td>1629036043</td>\n",
       "      <td>6</td>\n",
       "      <td>29.5833</td>\n",
       "      <td>-9.5000</td>\n",
       "      <td>109.26</td>\n",
       "      <td>4.59</td>\n",
       "    </tr>\n",
       "    <tr>\n",
       "      <th>495</th>\n",
       "      <td>London</td>\n",
       "      <td>40</td>\n",
       "      <td>MA</td>\n",
       "      <td>1629036134</td>\n",
       "      <td>6</td>\n",
       "      <td>34.0372</td>\n",
       "      <td>-4.9998</td>\n",
       "      <td>111.45</td>\n",
       "      <td>5.75</td>\n",
       "    </tr>\n",
       "    <tr>\n",
       "      <th>570</th>\n",
       "      <td>London</td>\n",
       "      <td>0</td>\n",
       "      <td>IR</td>\n",
       "      <td>1629036161</td>\n",
       "      <td>6</td>\n",
       "      <td>32.3811</td>\n",
       "      <td>48.4058</td>\n",
       "      <td>112.12</td>\n",
       "      <td>2.80</td>\n",
       "    </tr>\n",
       "    <tr>\n",
       "      <th>189</th>\n",
       "      <td>London</td>\n",
       "      <td>5</td>\n",
       "      <td>ML</td>\n",
       "      <td>1629035990</td>\n",
       "      <td>6</td>\n",
       "      <td>22.6783</td>\n",
       "      <td>-3.9836</td>\n",
       "      <td>116.08</td>\n",
       "      <td>13.06</td>\n",
       "    </tr>\n",
       "    <tr>\n",
       "      <th>318</th>\n",
       "      <td>London</td>\n",
       "      <td>0</td>\n",
       "      <td>IR</td>\n",
       "      <td>1629036069</td>\n",
       "      <td>5</td>\n",
       "      <td>33.5959</td>\n",
       "      <td>56.9244</td>\n",
       "      <td>98.65</td>\n",
       "      <td>14.65</td>\n",
       "    </tr>\n",
       "  </tbody>\n",
       "</table>\n",
       "<p>574 rows × 9 columns</p>\n",
       "</div>"
      ],
      "text/plain": [
       "    City Name  Cloudiness Country        Date  Humidity  Latitude  Longitude  \\\n",
       "142    London          90      AR  1629035973       100  -38.0023   -57.5575   \n",
       "89     London          75      CA  1629035954       100   62.4560  -114.3525   \n",
       "107    London          75      IS  1629035961       100   63.8424   -22.4338   \n",
       "5      London          99      VE  1629035923       100    9.0418   -69.7421   \n",
       "47     London         100      RU  1629035939       100   69.7008   170.3133   \n",
       "..        ...         ...     ...         ...       ...       ...        ...   \n",
       "268    London          68      MA  1629036043         6   29.5833    -9.5000   \n",
       "495    London          40      MA  1629036134         6   34.0372    -4.9998   \n",
       "570    London           0      IR  1629036161         6   32.3811    48.4058   \n",
       "189    London           5      ML  1629035990         6   22.6783    -3.9836   \n",
       "318    London           0      IR  1629036069         5   33.5959    56.9244   \n",
       "\n",
       "     Max Temp  Wind Speed  \n",
       "142     42.82        5.75  \n",
       "89      52.32        5.75  \n",
       "107     53.56       12.66  \n",
       "5       75.22        3.44  \n",
       "47      32.97        6.35  \n",
       "..        ...         ...  \n",
       "268    109.26        4.59  \n",
       "495    111.45        5.75  \n",
       "570    112.12        2.80  \n",
       "189    116.08       13.06  \n",
       "318     98.65       14.65  \n",
       "\n",
       "[574 rows x 9 columns]"
      ]
     },
     "execution_count": 10,
     "metadata": {},
     "output_type": "execute_result"
    }
   ],
   "source": [
    "city_df.sort_values(by='Humidity', ascending=False)\n",
    "\n"
   ]
  },
  {
   "cell_type": "code",
   "execution_count": 11,
   "metadata": {},
   "outputs": [
    {
     "data": {
      "text/html": [
       "<div>\n",
       "<style scoped>\n",
       "    .dataframe tbody tr th:only-of-type {\n",
       "        vertical-align: middle;\n",
       "    }\n",
       "\n",
       "    .dataframe tbody tr th {\n",
       "        vertical-align: top;\n",
       "    }\n",
       "\n",
       "    .dataframe thead th {\n",
       "        text-align: right;\n",
       "    }\n",
       "</style>\n",
       "<table border=\"1\" class=\"dataframe\">\n",
       "  <thead>\n",
       "    <tr style=\"text-align: right;\">\n",
       "      <th></th>\n",
       "      <th>City Name</th>\n",
       "      <th>Cloudiness</th>\n",
       "      <th>Country</th>\n",
       "      <th>Date</th>\n",
       "      <th>Humidity</th>\n",
       "      <th>Latitude</th>\n",
       "      <th>Longitude</th>\n",
       "      <th>Max Temp</th>\n",
       "      <th>Wind Speed</th>\n",
       "    </tr>\n",
       "  </thead>\n",
       "  <tbody>\n",
       "    <tr>\n",
       "      <th>0</th>\n",
       "      <td>London</td>\n",
       "      <td>45</td>\n",
       "      <td>NZ</td>\n",
       "      <td>1629035922</td>\n",
       "      <td>90</td>\n",
       "      <td>-46.2817</td>\n",
       "      <td>169.8464</td>\n",
       "      <td>40.87</td>\n",
       "      <td>5.39</td>\n",
       "    </tr>\n",
       "    <tr>\n",
       "      <th>1</th>\n",
       "      <td>London</td>\n",
       "      <td>40</td>\n",
       "      <td>KZ</td>\n",
       "      <td>1629035922</td>\n",
       "      <td>54</td>\n",
       "      <td>47.4667</td>\n",
       "      <td>84.8667</td>\n",
       "      <td>62.06</td>\n",
       "      <td>2.82</td>\n",
       "    </tr>\n",
       "    <tr>\n",
       "      <th>2</th>\n",
       "      <td>London</td>\n",
       "      <td>100</td>\n",
       "      <td>ID</td>\n",
       "      <td>1629035922</td>\n",
       "      <td>89</td>\n",
       "      <td>-3.8004</td>\n",
       "      <td>102.2655</td>\n",
       "      <td>77.18</td>\n",
       "      <td>3.47</td>\n",
       "    </tr>\n",
       "    <tr>\n",
       "      <th>3</th>\n",
       "      <td>London</td>\n",
       "      <td>0</td>\n",
       "      <td>AU</td>\n",
       "      <td>1629035923</td>\n",
       "      <td>81</td>\n",
       "      <td>-33.8667</td>\n",
       "      <td>121.9000</td>\n",
       "      <td>51.64</td>\n",
       "      <td>7.76</td>\n",
       "    </tr>\n",
       "    <tr>\n",
       "      <th>4</th>\n",
       "      <td>London</td>\n",
       "      <td>68</td>\n",
       "      <td>MR</td>\n",
       "      <td>1629035923</td>\n",
       "      <td>61</td>\n",
       "      <td>20.9310</td>\n",
       "      <td>-17.0347</td>\n",
       "      <td>82.38</td>\n",
       "      <td>11.50</td>\n",
       "    </tr>\n",
       "    <tr>\n",
       "      <th>...</th>\n",
       "      <td>...</td>\n",
       "      <td>...</td>\n",
       "      <td>...</td>\n",
       "      <td>...</td>\n",
       "      <td>...</td>\n",
       "      <td>...</td>\n",
       "      <td>...</td>\n",
       "      <td>...</td>\n",
       "      <td>...</td>\n",
       "    </tr>\n",
       "    <tr>\n",
       "      <th>569</th>\n",
       "      <td>London</td>\n",
       "      <td>12</td>\n",
       "      <td>IR</td>\n",
       "      <td>1629036160</td>\n",
       "      <td>51</td>\n",
       "      <td>27.1467</td>\n",
       "      <td>57.0801</td>\n",
       "      <td>96.30</td>\n",
       "      <td>8.03</td>\n",
       "    </tr>\n",
       "    <tr>\n",
       "      <th>570</th>\n",
       "      <td>London</td>\n",
       "      <td>0</td>\n",
       "      <td>IR</td>\n",
       "      <td>1629036161</td>\n",
       "      <td>6</td>\n",
       "      <td>32.3811</td>\n",
       "      <td>48.4058</td>\n",
       "      <td>112.12</td>\n",
       "      <td>2.80</td>\n",
       "    </tr>\n",
       "    <tr>\n",
       "      <th>571</th>\n",
       "      <td>London</td>\n",
       "      <td>100</td>\n",
       "      <td>CA</td>\n",
       "      <td>1629036017</td>\n",
       "      <td>70</td>\n",
       "      <td>53.5334</td>\n",
       "      <td>-114.0021</td>\n",
       "      <td>66.74</td>\n",
       "      <td>6.62</td>\n",
       "    </tr>\n",
       "    <tr>\n",
       "      <th>572</th>\n",
       "      <td>London</td>\n",
       "      <td>87</td>\n",
       "      <td>AU</td>\n",
       "      <td>1629036161</td>\n",
       "      <td>35</td>\n",
       "      <td>-20.7833</td>\n",
       "      <td>117.1333</td>\n",
       "      <td>77.95</td>\n",
       "      <td>11.72</td>\n",
       "    </tr>\n",
       "    <tr>\n",
       "      <th>573</th>\n",
       "      <td>London</td>\n",
       "      <td>5</td>\n",
       "      <td>BR</td>\n",
       "      <td>1629036161</td>\n",
       "      <td>52</td>\n",
       "      <td>-2.8900</td>\n",
       "      <td>-41.9031</td>\n",
       "      <td>88.27</td>\n",
       "      <td>7.27</td>\n",
       "    </tr>\n",
       "  </tbody>\n",
       "</table>\n",
       "<p>566 rows × 9 columns</p>\n",
       "</div>"
      ],
      "text/plain": [
       "    City Name  Cloudiness Country        Date  Humidity  Latitude  Longitude  \\\n",
       "0      London          45      NZ  1629035922        90  -46.2817   169.8464   \n",
       "1      London          40      KZ  1629035922        54   47.4667    84.8667   \n",
       "2      London         100      ID  1629035922        89   -3.8004   102.2655   \n",
       "3      London           0      AU  1629035923        81  -33.8667   121.9000   \n",
       "4      London          68      MR  1629035923        61   20.9310   -17.0347   \n",
       "..        ...         ...     ...         ...       ...       ...        ...   \n",
       "569    London          12      IR  1629036160        51   27.1467    57.0801   \n",
       "570    London           0      IR  1629036161         6   32.3811    48.4058   \n",
       "571    London         100      CA  1629036017        70   53.5334  -114.0021   \n",
       "572    London          87      AU  1629036161        35  -20.7833   117.1333   \n",
       "573    London           5      BR  1629036161        52   -2.8900   -41.9031   \n",
       "\n",
       "     Max Temp  Wind Speed  \n",
       "0       40.87        5.39  \n",
       "1       62.06        2.82  \n",
       "2       77.18        3.47  \n",
       "3       51.64        7.76  \n",
       "4       82.38       11.50  \n",
       "..        ...         ...  \n",
       "569     96.30        8.03  \n",
       "570    112.12        2.80  \n",
       "571     66.74        6.62  \n",
       "572     77.95       11.72  \n",
       "573     88.27        7.27  \n",
       "\n",
       "[566 rows x 9 columns]"
      ]
     },
     "execution_count": 11,
     "metadata": {},
     "output_type": "execute_result"
    }
   ],
   "source": [
    "clean_city_df = city_df[city_df['Humidity'] <= 99]\n",
    "clean_city_df\n",
    "\n"
   ]
  },
  {
   "cell_type": "code",
   "execution_count": 12,
   "metadata": {},
   "outputs": [],
   "source": [
    "# Make a new DataFrame equal to the city data to drop all humidity outliers by index.\n",
    "# Passing \"inplace=False\" will make a copy of the city_data DataFrame, which we call \"clean_city_data\".\n"
   ]
  },
  {
   "cell_type": "markdown",
   "metadata": {},
   "source": [
    "## Plotting the Data\n",
    "* Use proper labeling of the plots using plot titles (including date of analysis) and axes labels.\n",
    "* Save the plotted figures as .pngs."
   ]
  },
  {
   "cell_type": "markdown",
   "metadata": {},
   "source": [
    "## Latitude vs. Temperature Plot"
   ]
  },
  {
   "cell_type": "code",
   "execution_count": 13,
   "metadata": {},
   "outputs": [
    {
     "data": {
      "image/png": "[encoded data removed]",
      "text/plain": [
       "<Figure size 432x288 with 1 Axes>"
      ]
     },
     "metadata": {
      "needs_background": "light"
     },
     "output_type": "display_data"
    },
    {
     "data": {
      "text/plain": [
       "<Figure size 432x288 with 0 Axes>"
      ]
     },
     "metadata": {},
     "output_type": "display_data"
    }
   ],
   "source": [
    "\n",
    "#Creating plot\n",
    "plt.scatter(clean_city_df[\"Latitude\"], clean_city_df[\"Max Temp\"], marker = \"o\", color = \"orange\",edgecolor = \"black\")\n",
    "plt.grid()\n",
    "plt.xlabel(\"Latitude\")\n",
    "plt.ylabel(\"Max Temperature (F)\")\n",
    "plt.title(f\"City Latitude vs. Max Temperature (04/01/20)\")\n",
    "plt.show()\n",
    "plt.savefig(\"City_Latitude_vs_Max_Temperature.png\")"
   ]
  },
  {
   "cell_type": "markdown",
   "metadata": {},
   "source": [
    "## Latitude vs. Humidity Plot"
   ]
  },
  {
   "cell_type": "code",
   "execution_count": null,
   "metadata": {},
   "outputs": [],
   "source": []
  },
  {
   "cell_type": "code",
   "execution_count": 14,
   "metadata": {},
   "outputs": [
    {
     "data": {
      "image/png": "[encoded data removed]",
      "text/plain": [
       "<Figure size 432x288 with 1 Axes>"
      ]
     },
     "metadata": {
      "needs_background": "light"
     },
     "output_type": "display_data"
    },
    {
     "data": {
      "text/plain": [
       "<Figure size 432x288 with 0 Axes>"
      ]
     },
     "metadata": {},
     "output_type": "display_data"
    }
   ],
   "source": [
    "plt.scatter(clean_city_df[\"Latitude\"], clean_city_df[\"Humidity\"], marker = \"o\", color = \"orange\",edgecolor = \"black\")\n",
    "plt.grid()\n",
    "plt.ylim(0, clean_city_df[\"Humidity\"].max()+10)\n",
    "plt.xlabel(\"Latitude\")\n",
    "plt.ylabel(\"Humidity(%)\")\n",
    "plt.title(f\"City Latitude vs. Humidity (04/01/20)\")\n",
    "plt.show()\n",
    "plt.savefig(\"City_Latitude_vs_Humidity.png\")"
   ]
  },
  {
   "cell_type": "markdown",
   "metadata": {},
   "source": [
    "## Latitude vs. Cloudiness Plot"
   ]
  },
  {
   "cell_type": "code",
   "execution_count": null,
   "metadata": {},
   "outputs": [],
   "source": []
  },
  {
   "cell_type": "code",
   "execution_count": 15,
   "metadata": {},
   "outputs": [
    {
     "data": {
      "image/png": "[encoded data removed]",
      "text/plain": [
       "<Figure size 432x288 with 1 Axes>"
      ]
     },
     "metadata": {
      "needs_background": "light"
     },
     "output_type": "display_data"
    },
    {
     "data": {
      "text/plain": [
       "<Figure size 432x288 with 0 Axes>"
      ]
     },
     "metadata": {},
     "output_type": "display_data"
    }
   ],
   "source": [
    "plt.scatter(clean_city_df[\"Latitude\"],clean_city_df[\"Cloudiness\"], marker = \"o\", color = \"orange\",edgecolor = \"black\")\n",
    "plt.grid()\n",
    "plt.xlabel(\"Latitude\")\n",
    "plt.ylabel(\"Cloudiness(%)\")\n",
    "plt.title(f\"City Latitude vs. Cloudiness (04/01/20)\")\n",
    "plt.show()\n",
    "plt.savefig(\"City_Latitude_vs_Cloudiness.png\")"
   ]
  },
  {
   "cell_type": "markdown",
   "metadata": {},
   "source": [
    "## Latitude vs. Wind Speed Plot"
   ]
  },
  {
   "cell_type": "code",
   "execution_count": null,
   "metadata": {},
   "outputs": [],
   "source": []
  },
  {
   "cell_type": "code",
   "execution_count": 16,
   "metadata": {},
   "outputs": [
    {
     "data": {
      "image/png": "[encoded data removed]",
      "text/plain": [
       "<Figure size 432x288 with 1 Axes>"
      ]
     },
     "metadata": {
      "needs_background": "light"
     },
     "output_type": "display_data"
    },
    {
     "data": {
      "text/plain": [
       "<Figure size 432x288 with 0 Axes>"
      ]
     },
     "metadata": {},
     "output_type": "display_data"
    }
   ],
   "source": [
    "plt.scatter(clean_city_df[\"Latitude\"], clean_city_df[\"Wind Speed\"], marker = \"o\", color = \"orange\",edgecolor = \"black\")\n",
    "plt.grid()\n",
    "plt.xlabel(\"Latitude\")\n",
    "plt.ylabel(\"Wind Speed(mph)\")\n",
    "plt.title(f\"City Latitude vs. Wind Speed (04/01/20)\")\n",
    "plt.show()\n",
    "plt.savefig(\"City_Latitude_vs_Wind_Speed_.png\")"
   ]
  },
  {
   "cell_type": "markdown",
   "metadata": {},
   "source": [
    "## Linear Regression"
   ]
  },
  {
   "cell_type": "code",
   "execution_count": 17,
   "metadata": {},
   "outputs": [],
   "source": [
    "N_Hemisphere = clean_city_df.loc[clean_city_df[\"Latitude\"] >= 0]\n",
    "S_Hemisphere = clean_city_df.loc[clean_city_df[\"Latitude\"] < 0]"
   ]
  },
  {
   "cell_type": "code",
   "execution_count": 18,
   "metadata": {},
   "outputs": [],
   "source": [
    "def linear_regression(x,y):\n",
    "    print(f\"The r-squared is : {round(st.pearsonr(x, y)[0],2)}\")\n",
    "    (slope, intercept, rvalue, pvalue, stderr) = linregress(x, y)\n",
    "    regress_values = x * slope + intercept\n",
    "    line_eq = \"y = \" + str(round(slope,2)) + \"x + \" + str(round(intercept,2))\n",
    "    plt.scatter(x, y)\n",
    "    plt.plot(x,regress_values,\"r-\")\n",
    "    return line_eq\n",
    "\n",
    "def annotate(line_eq, a, b):\n",
    "    plt.annotate(line_eq,(a,b),fontsize=15,color=\"red\")"
   ]
  },
  {
   "cell_type": "markdown",
   "metadata": {},
   "source": [
    "####  Northern Hemisphere - Max Temp vs. Latitude Linear Regression"
   ]
  },
  {
   "cell_type": "code",
   "execution_count": 19,
   "metadata": {},
   "outputs": [
    {
     "name": "stdout",
     "output_type": "stream",
     "text": [
      "The r-squared is : -0.66\n"
     ]
    },
    {
     "data": {
      "image/png": "[encoded data removed]",
      "text/plain": [
       "<Figure size 432x288 with 1 Axes>"
      ]
     },
     "metadata": {
      "needs_background": "light"
     },
     "output_type": "display_data"
    }
   ],
   "source": [
    "equation = linear_regression(N_Hemisphere[\"Latitude\"], N_Hemisphere[\"Max Temp\"])\n",
    "\n",
    "plt.title(\"Northern Hemisphere - Max Temp vs. Latitude Linear Regression\")\n",
    "plt.xlabel(\"Latitude\")\n",
    "plt.ylabel(\"Max Temp (F)\")\n",
    "\n",
    "annotate(equation, -20, 30)\n",
    "\n",
    "plt.savefig(\"Northern_Hemisphere_Max Temp_vs_Latitude_Linear_Regression.png\")\n",
    "\n"
   ]
  },
  {
   "cell_type": "code",
   "execution_count": null,
   "metadata": {},
   "outputs": [],
   "source": []
  },
  {
   "cell_type": "markdown",
   "metadata": {},
   "source": [
    "####  Southern Hemisphere - Max Temp vs. Latitude Linear Regression"
   ]
  },
  {
   "cell_type": "code",
   "execution_count": null,
   "metadata": {},
   "outputs": [],
   "source": []
  },
  {
   "cell_type": "code",
   "execution_count": 20,
   "metadata": {},
   "outputs": [
    {
     "name": "stdout",
     "output_type": "stream",
     "text": [
      "The r-squared is : 0.86\n"
     ]
    },
    {
     "data": {
      "image/png": "[encoded data removed]",
      "text/plain": [
       "<Figure size 432x288 with 1 Axes>"
      ]
     },
     "metadata": {
      "needs_background": "light"
     },
     "output_type": "display_data"
    }
   ],
   "source": [
    "equation = linear_regression(S_Hemisphere[\"Latitude\"],S_Hemisphere[\"Max Temp\"])\n",
    "\n",
    "plt.title(\"Southern Hemisphere - Max Temp vs. Latitude Linear Regression\")\n",
    "plt.xlabel(\"Latitude\")\n",
    "plt.ylabel(\"Max Temp (F)\")\n",
    "\n",
    "annotate(equation, -20, 30)\n",
    "\n",
    "plt.savefig(\"Southern_Hemisphere_Max_Temp_vs_Latitude_Linear_Regression.png\")\n"
   ]
  },
  {
   "cell_type": "markdown",
   "metadata": {},
   "source": [
    "####  Northern Hemisphere - Humidity (%) vs. Latitude Linear Regression"
   ]
  },
  {
   "cell_type": "code",
   "execution_count": null,
   "metadata": {},
   "outputs": [],
   "source": []
  },
  {
   "cell_type": "code",
   "execution_count": 21,
   "metadata": {},
   "outputs": [
    {
     "name": "stdout",
     "output_type": "stream",
     "text": [
      "The r-squared is : 0.09\n"
     ]
    },
    {
     "data": {
      "image/png": "[encoded data removed]",
      "text/plain": [
       "<Figure size 432x288 with 1 Axes>"
      ]
     },
     "metadata": {
      "needs_background": "light"
     },
     "output_type": "display_data"
    }
   ],
   "source": [
    "equation = linear_regression(N_Hemisphere[\"Latitude\"], N_Hemisphere[\"Humidity\"])\n",
    "\n",
    "plt.title(\"Northern Hemisphere - Humidity (%) vs. Latitude Linear Regression\")\n",
    "plt.xlabel(\"Latitude\")\n",
    "plt.ylabel(\"Humidity (%)\")\n",
    "\n",
    "annotate(equation, 20, 30)\n",
    "\n",
    "plt.savefig(\"Northern_Hemisphere_Humidity_vs_Latitude_Linear_Regression.png\")"
   ]
  },
  {
   "cell_type": "markdown",
   "metadata": {},
   "source": [
    "####  Southern Hemisphere - Humidity (%) vs. Latitude Linear Regression"
   ]
  },
  {
   "cell_type": "code",
   "execution_count": null,
   "metadata": {},
   "outputs": [],
   "source": []
  },
  {
   "cell_type": "code",
   "execution_count": 22,
   "metadata": {},
   "outputs": [
    {
     "name": "stdout",
     "output_type": "stream",
     "text": [
      "The r-squared is : -0.11\n"
     ]
    },
    {
     "data": {
      "image/png": "[encoded data removed]",
      "text/plain": [
       "<Figure size 432x288 with 1 Axes>"
      ]
     },
     "metadata": {
      "needs_background": "light"
     },
     "output_type": "display_data"
    }
   ],
   "source": [
    "equation = linear_regression(S_Hemisphere[\"Latitude\"], S_Hemisphere[\"Humidity\"])\n",
    "\n",
    "plt.title(\"Southern Hemisphere - Humidity (%) vs. Latitude Linear Regression\")\n",
    "plt.xlabel(\"Latitude\")\n",
    "plt.ylabel(\"Humidity (%)\")\n",
    "\n",
    "annotate(equation, -20, 30)\n",
    "\n",
    "plt.savefig(\"Southern_Hemisphere_Humidity_vs_Latitude_Linear_Regression.png\")"
   ]
  },
  {
   "cell_type": "markdown",
   "metadata": {},
   "source": [
    "####  Northern Hemisphere - Cloudiness (%) vs. Latitude Linear Regression"
   ]
  },
  {
   "cell_type": "code",
   "execution_count": null,
   "metadata": {},
   "outputs": [],
   "source": []
  },
  {
   "cell_type": "code",
   "execution_count": 23,
   "metadata": {},
   "outputs": [
    {
     "name": "stdout",
     "output_type": "stream",
     "text": [
      "The r-squared is : 0.07\n"
     ]
    },
    {
     "data": {
      "image/png": "[encoded data removed]",
      "text/plain": [
       "<Figure size 432x288 with 1 Axes>"
      ]
     },
     "metadata": {
      "needs_background": "light"
     },
     "output_type": "display_data"
    }
   ],
   "source": [
    "equation = linear_regression(N_Hemisphere[\"Latitude\"], N_Hemisphere[\"Cloudiness\"])\n",
    "\n",
    "plt.title(\"Southern Hemisphere - Humidity (%) vs. Latitude Linear Regression\")\n",
    "plt.xlabel(\"Latitude\")\n",
    "plt.ylabel(\"Cloudiness\")\n",
    "\n",
    "annotate(equation, -20, 30)\n",
    "\n",
    "plt.savefig(\"Northern_Hemisphere_Cloudiness_vs_Latitude_Linear_Regression.png\")"
   ]
  },
  {
   "cell_type": "markdown",
   "metadata": {},
   "source": [
    "####  Southern Hemisphere - Cloudiness (%) vs. Latitude Linear Regression"
   ]
  },
  {
   "cell_type": "code",
   "execution_count": null,
   "metadata": {},
   "outputs": [],
   "source": []
  },
  {
   "cell_type": "code",
   "execution_count": 24,
   "metadata": {},
   "outputs": [
    {
     "name": "stdout",
     "output_type": "stream",
     "text": [
      "The r-squared is : 0.13\n"
     ]
    },
    {
     "data": {
      "image/png": "[encoded data removed]",
      "text/plain": [
       "<Figure size 432x288 with 1 Axes>"
      ]
     },
     "metadata": {
      "needs_background": "light"
     },
     "output_type": "display_data"
    }
   ],
   "source": [
    "equation = linear_regression(S_Hemisphere[\"Latitude\"], S_Hemisphere[\"Cloudiness\"])\n",
    "\n",
    "plt.title(\"Southern Hemisphere - Humidity (%) vs. Latitude Linear Regression\")\n",
    "plt.xlabel(\"Latitude\")\n",
    "plt.ylabel(\"Cloudiness\")\n",
    "\n",
    "annotate(equation, -20, 30)\n",
    "\n",
    "plt.savefig(\"Southern_Hemisphere_Cloudiness_vs_Latitude_Linear_Regression.png\")"
   ]
  },
  {
   "cell_type": "markdown",
   "metadata": {},
   "source": [
    "####  Northern Hemisphere - Wind Speed (mph) vs. Latitude Linear Regression"
   ]
  },
  {
   "cell_type": "code",
   "execution_count": null,
   "metadata": {},
   "outputs": [],
   "source": []
  },
  {
   "cell_type": "code",
   "execution_count": 25,
   "metadata": {},
   "outputs": [
    {
     "name": "stdout",
     "output_type": "stream",
     "text": [
      "The r-squared is : 0.08\n"
     ]
    },
    {
     "data": {
      "image/png": "[encoded data removed]",
      "text/plain": [
       "<Figure size 432x288 with 1 Axes>"
      ]
     },
     "metadata": {
      "needs_background": "light"
     },
     "output_type": "display_data"
    }
   ],
   "source": [
    "equation = linear_regression(N_Hemisphere[\"Latitude\"], N_Hemisphere[\"Wind Speed\"])\n",
    "\n",
    "plt.title(\"Southern Hemisphere - Humidity (%) vs. Latitude Linear Regression\")\n",
    "plt.xlabel(\"Latitude\")\n",
    "plt.ylabel(\"Wind Speed\")\n",
    "\n",
    "annotate(equation, -20, 30)\n",
    "\n",
    "plt.savefig(\"Northern_Hemisphere_Wind_Speed_vs_Latitude_Linear_Regression.png\")\n"
   ]
  },
  {
   "cell_type": "markdown",
   "metadata": {},
   "source": [
    "####  Southern Hemisphere - Wind Speed (mph) vs. Latitude Linear Regression"
   ]
  },
  {
   "cell_type": "code",
   "execution_count": null,
   "metadata": {},
   "outputs": [],
   "source": []
  },
  {
   "cell_type": "code",
   "execution_count": 26,
   "metadata": {},
   "outputs": [
    {
     "name": "stdout",
     "output_type": "stream",
     "text": [
      "The r-squared is : -0.03\n"
     ]
    },
    {
     "data": {
      "image/png": "[encoded data removed]",
      "text/plain": [
       "<Figure size 432x288 with 1 Axes>"
      ]
     },
     "metadata": {
      "needs_background": "light"
     },
     "output_type": "display_data"
    }
   ],
   "source": [
    "equation = linear_regression(S_Hemisphere[\"Latitude\"], S_Hemisphere[\"Wind Speed\"])\n",
    "\n",
    "plt.title(\"Southern Hemisphere - Humidity (%) vs. Latitude Linear Regression\")\n",
    "plt.xlabel(\"Latitude\")\n",
    "plt.ylabel(\"Wind Speed\")\n",
    "\n",
    "annotate(equation, -20, 30)\n",
    "\n",
    "plt.savefig(\"Southern_Hemisphere_Wind Speed_vs_Latitude_Linear_Regression.png\")"
   ]
  },
  {
   "cell_type": "code",
   "execution_count": null,
   "metadata": {},
   "outputs": [],
   "source": []
  }
 ],
 "metadata": {
  "anaconda-cloud": {},
  "kernel_info": {
   "name": "python3"
  },
  "kernelspec": {
   "display_name": "Python 3",
   "language": "python",
   "name": "python3"
  },
  "language_info": {
   "codemirror_mode": {
    "name": "ipython",
    "version": 3
   },
   "file_extension": ".py",
   "mimetype": "text/x-python",
   "name": "python",
   "nbconvert_exporter": "python",
   "pygments_lexer": "ipython3",
   "version": "3.8.8"
  },
  "latex_envs": {
   "LaTeX_envs_menu_present": true,
   "autoclose": false,
   "autocomplete": true,
   "bibliofile": "biblio.bib",
   "cite_by": "apalike",
   "current_citInitial": 1,
   "eqLabelWithNumbers": true,
   "eqNumInitial": 1,
   "hotkeys": {
    "equation": "Ctrl-E",
    "itemize": "Ctrl-I"
   },
   "labels_anchors": false,
   "latex_user_defs": false,
   "report_style_numbering": false,
   "user_envs_cfg": false
  },
  "nteract": {
   "version": "0.12.3"
  }
 },
 "nbformat": 4,
 "nbformat_minor": 2
}
