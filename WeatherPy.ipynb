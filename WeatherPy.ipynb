{
 "cells": [
  {
   "cell_type": "markdown",
   "metadata": {},
   "source": [
    "# WeatherPy\n",
    "----\n",
    "\n",
    "#### Note\n",
    "* Instructions have been included for each segment. You do not have to follow them exactly, but they are included to help you think through the steps."
   ]
  },
  {
   "cell_type": "code",
   "execution_count": 1,
   "metadata": {
    "scrolled": true
   },
   "outputs": [],
   "source": [
    "import requests\n",
    "import json\n",
    "import pandas as pd\n",
    "import numpy as np\n",
    "import matplotlib.pyplot as plt\n",
    "from pprint import pprint\n",
    "from citipy import citipy\n",
    "from api_keys import weather_api_key\n",
    "from scipy.stats import linregress\n",
    "import scipy.stats as st\n"
   ]
  },
  {
   "cell_type": "code",
   "execution_count": 2,
   "metadata": {},
   "outputs": [],
   "source": [
    "api_key = weather_api_key\n",
    "city_name = \"London\"\n",
    "url = f\"https://api.openweathermap.org/data/2.5/weather?&appid={api_key}&units=Imperial\"\n",
    "\n"
   ]
  },
  {
   "cell_type": "code",
   "execution_count": 3,
   "metadata": {},
   "outputs": [
    {
     "data": {
      "text/plain": [
       "{'coord': {'lon': -0.1257, 'lat': 51.5085},\n",
       " 'weather': [{'id': 804,\n",
       "   'main': 'Clouds',\n",
       "   'description': 'overcast clouds',\n",
       "   'icon': '04d'}],\n",
       " 'base': 'stations',\n",
       " 'main': {'temp': 69.93,\n",
       "  'feels_like': 69.49,\n",
       "  'temp_min': 65.1,\n",
       "  'temp_max': 73.15,\n",
       "  'pressure': 1018,\n",
       "  'humidity': 61},\n",
       " 'visibility': 10000,\n",
       " 'wind': {'speed': 9.22, 'deg': 250},\n",
       " 'clouds': {'all': 100},\n",
       " 'dt': 1628967508,\n",
       " 'sys': {'type': 2,\n",
       "  'id': 2019646,\n",
       "  'country': 'GB',\n",
       "  'sunrise': 1628916280,\n",
       "  'sunset': 1628969153},\n",
       " 'timezone': 3600,\n",
       " 'id': 2643743,\n",
       " 'name': 'London',\n",
       " 'cod': 200}"
      ]
     },
     "execution_count": 3,
     "metadata": {},
     "output_type": "execute_result"
    }
   ],
   "source": [
    "requests.get(url+\"&q=\"+city_name).json()"
   ]
  },
  {
   "cell_type": "markdown",
   "metadata": {},
   "source": [
    "## Generate Cities List"
   ]
  },
  {
   "cell_type": "code",
   "execution_count": 4,
   "metadata": {},
   "outputs": [
    {
     "name": "stdout",
     "output_type": "stream",
     "text": [
      "605\n",
      "['berlevag', 'butaritari', 'airai', 'bambous virieux', 'mount gambier', 'san patricio', 'rikitea', 'pevek', 'cape town', 'chuy', 'illoqqortoormiut', 'shingu', 'mataura', 'touros', 'albany', 'pangnirtung', 'attawapiskat', 'east london', 'nuevitas', 'gravdal', 'longyearbyen', 'luderitz', 'kargopol', 'punta arenas', 'tumannyy', 'tiksi', 'grand centre', 'dikson', 'bredasdorp', 'port elizabeth', 'vostok', 'hami', 'busselton', 'red bluff', 'hasaki', 'amderma', 'safonovo', 'belaya gora', 'barrow', 'cozumel', 'ushuaia', 'bluff', 'castro', 'kavieng', 'puerto ayora', 'sao filipe', 'trapani', 'geraldton', 'salalah', 'pregassona', 'dolores', 'svetlogorsk', 'taolanaro', 'hobart', 'jamestown', 'victoria', 'gat', 'katsuura', 'yar-sale', 'sukhodol', 'hermanus', 'coruripe', 'long beach', 'poum', 'qaanaaq', 'belushya guba', 'maniitsoq', 'new norfolk', 'chokurdakh', 'rach gia', 'bilibino', 'vaini', 'militello in val di catania', 'quang ngai', 'basco', 'mar del plata', 'port alfred', 'tsihombe', 'aksarka', 'atar', 'puerto del rosario', 'diffa', 'stranda', 'makushino', 'praia', 'ilulissat', 'palenque', 'belyy yar', 'ribeira grande', 'neiafu', 'avarua', 'plouzane', 'atuona', 'yellowknife', 'digby', 'saint anthony', 'lavrentiya', 'malinovoye ozero', 'colares', 'tuktoyaktuk', 'provideniya', 'nikolskoye', 'esna', 'america dourada', 'kasempa', 'kapaa', 'roma', 'macaboboni', 'sentyabrskiy', 'karkaralinsk', 'khatanga', 'kloulklubed', 'kamaishi', 'albina', 'carutapera', 'tuensang', 'mahebourg', 'ust-kamchatsk', 'paamiut', 'antofagasta', 'kamenskoye', 'lolua', 'riohacha', 'pochutla', 'saint-philippe', 'sur', 'faanui', 'bonavista', 'tessalit', 'kibala', 'barcelos', 'pimentel', 'revelstoke', 'bethel', 'asasa', 'tasiilaq', 'kiama', 'beringovskiy', 'uvira', 'cidreira', 'saldanha', 'fortuna', 'bafoulabe', 'madawaska', 'georgetown', 'arman', 'palana', 'mitu', 'arraial do cabo', 'negombo', 'ovalle', 'lorengau', 'kirakira', 'porosozero', 'san rafael', 'sattahip', 'paita', 'tuatapere', 'klaksvik', 'sitka', 'vardo', 'barentsburg', 'ola', 'hithadhoo', 'barra do bugres', 'kez', 'helmstedt', 'riyadh', 'nizhneyansk', 'greensburg', 'luanda', 'canto do buriti', 'kavaratti', 'havelock', 'naryan-mar', 'samarai', 'turayf', 'kondinskoye', 'saint george', 'hilo', 'kuryk', 'berdigestyakh', 'adre', 'lebu', 'port hardy', 'kazalinsk', 'kruisfontein', 'saquarema', 'pacific grove', 'abu samrah', 'muncar', 'qaqortoq', 'mys shmidta', 'kaitangata', 'bolungarvik', 'richards bay', 'souillac', 'santiago del estero', 'morondava', 'vicuna', 'maarianhamina', 'tibati', 'arroio grande', 'constitucion', 'artyk', 'clyde river', 'tyumentsevo', 'nong phai', 'culipapa', 'narsaq', 'vila velha', 'kysyl-syr', 'gilgit', 'gallup', 'mocambique', 'marcona', 'kenai', 'luzhou', 'sorkjosen', 'kidal', 'balimo', 'kodiak', 'boguchany', 'disna', 'merritt island', 'yeppoon', 'alofi', 'beaune', 'yumen', 'umm lajj', 'labuhan', 'iqaluit', 'romitan', 'sorland', 'juifang', 'torbay', 'cabedelo', 'tundla', 'katherine', 'kande', 'mehamn', 'fairbanks', 'ondjiva', 'nome', 'dingle', 'severo-kurilsk', 'alhandra', 'bontang', 'jalu', 'uyemskiy', 'kalmunai', 'saskylakh', 'pisco', 'kahului', 'ozinki', 'los llanos de aridane', 'praia da vitoria', 'port blair', 'athabasca', 'hambantota', 'tahta', 'aitape', 'upernavik', 'buchanan', 'hansi', 'wagar', 'lagoa', 'prince rupert', 'karratha', 'kharovsk', 'isangel', 'zupanja', 'lynn haven', 'viedma', 'mrirt', 'kocevje', 'vaitupu', 'ogulin', 'hihifo', 'bonthe', 'coquimbo', 'makakilo city', 'mao', 'stornoway', 'bilma', 'dafeng', 'lidkoping', 'ponta do sol', 'bargal', 'ostrovnoy', 'bairiki', 'grand river south east', 'mahanje', 'hofn', 'nioro', 'pontianak', 'husavik', 'nuevo progreso', 'cherskiy', 'plettenberg bay', 'huarmey', 'ponta delgada', 'mandalgovi', 'samalaeulu', 'weymouth', 'kununurra', 'padang', 'sola', 'skalistyy', 'alice springs', 'tautira', 'tonekabon', 'gizo', 'vilhena', 'kumano', 'kamenka', 'saryshagan', 'gorey', 'brae', 'balsas', 'pemba', 'broken hill', 'virginia beach', 'guerrero negro', 'yulara', 'black river', 'opuwo', 'thompson', 'port-gentil', 'stony plain', 'nabire', 'faya', 'ust-kalmanka', 'mount holly', 'cabo san lucas', 'manacapuru', 'hovd', 'kirensk', 'mufulira', 'hobbs', 'moissala', 'buala', 'brewster', 'mananjary', 'juan lacaze', 'mecca', 'doctor juan leon mallorquin', 'coihaique', 'margate', 'okmulgee', 'talaya', 'price', 'marsabit', 'qasigiannguit', 'saint-pierre', 'carnarvon', 'macenta', 'beira', 'sibolga', 'bassano', 'san alberto', 'polyarnyy', 'kharan', 'ferme-neuve', 'shelton', 'baker', 'patnos', 'pucara', 'vestmannaeyjar', 'phalaborwa', 'aksu', 'cayenne', 'homer', 'namatanai', 'norman wells', 'pingxiang', 'talnakh', 'san jeronimo', 'algiers', 'rognan', 'rocha', 'maumere', 'sao joao da barra', 'manaure', 'aykhal', 'lompoc', 'akdepe', 'sucre', 'onguday', 'barranca', 'dalhousie', 'abalak', 'caravelas', 'abha', 'coachella', 'aloleng', 'ust-nera', 'veraval', 'lluta', 'lincoln', 'tokonou', 'havre-saint-pierre', 'saint-joseph', 'ahipara', 'spolaita', 'mareeba', 'san angelo', 'lakatoro', 'bayir', 'nadadores', 'oakley', 'prieska', 'de-kastri', 'chateauneuf-les-martigues', 'koungheul', 'darnah', 'diamantino', 'ulaangom', 'esperance', 'naze', 'odweyne', 'samusu', 'leesburg', 'vorukh', 'strezhevoy', 'spornoye', 'dien bien', 'westport', 'palmer', 'nicolas bravo', 'maun', 'ofunato', 'boljarovo', 'mitsamiouli', 'mount isa', 'changji', 'ust-koksa', 'aswan', 'laguna', 'sogdiondon', 'horsham', 'kupang', 'namibe', 'pombas', 'ambilobe', 'yako', 'chenghai', 'chuka', 'saint-georges', 'vaitape', 'george', 'joshimath', 'dorado', 'kapit', 'hailar', 'oskarshamn', 'santa rosalia', 'tayga', 'sisimiut', 'goias', 'estelle', 'nanortalik', 'kant', 'saravan', 'tual', 'beyneu', 'nouakchott', 'ancud', 'saint-pascal', 'tokur', 'banda aceh', 'am timan', 'half moon bay', 'shimoda', 'sterling', 'manhattan', 'correntina', 'tura', 'dukat', 'bengkulu', 'cockburn town', 'san quintin', 'palmas', 'talakan', 'tukrah', 'hamilton', 'sambava', 'san policarpo', 'atambua', 'emba', 'palabuhanratu', 'bandarbeyla', 'verkhnevilyuysk', 'ngukurr', 'jacksonville', 'lasa', 'oranjemund', 'yelkhovka', 'charters towers', 'lardos', 'beipiao', 'tucurui', 'yola', 'guangyuan', 'kodinsk', 'belmopan', 'longlac', 'whitianga', 'kangaatsiaq', 'concepcion del oro', 'davorlim', 'soure', 'houma', 'santiago', 'fort-shevchenko', 'parana', 'ugoofaaru', 'harper', 'jinchang', 'mountain home', 'falam', 'sabzevar', 'tacna', 'suez', 'beloha', 'ayan', 'kieta', 'bayeux', 'lerwick', 'labrea', 'murgab', 'sibu', 'khuzdar', 'sobolevo', 'puerto baquerizo moreno', 'balabac', 'ullal', 'jiaocheng', 'malanje', 'samana', 'angoche', 'noyabrsk', 'betong', 'saleaula', 'port lincoln', 'piacabucu', 'ust-ishim', 'avera', 'corrente', 'antalaha', 'darhan', 'bereda', 'ridgecrest', 'wangqing', 'redmond', 'barawe', 'neuquen', 'asau', 'sibiti', 'hokitika', 'cochabamba', 'moree', 'new glasgow', 'tabiauea', 'okandja', 'flinders', 'mainburg', 'petrolandia', 'toungoo', 'shipley', 'huilong', 'barsovo', 'filadelfia', 'barcelona', 'san cristobal', 'gubkinskiy', 'bima', 'shubarkuduk', 'tabou', 'tigil', 'emborion', 'mirnyy', 'kasongo-lunda', 'pangai', 'batagay', 'igrim', 'barao de melgaco', 'tilichiki', 'ronda', 'belem de sao francisco', 'chernyshevskiy', 'ambanja', 'orocue', 'yermolayevo', 'idappadi', 'saint-augustin', 'tiznit', 'marshall', 'nipawin', 'nago', 'maloy', 'kollam', 'amparafaravola', 'sayla', 'sao gabriel da cachoeira']\n"
     ]
    }
   ],
   "source": [
    "# Range of latitudes and longitudes\n",
    "lat_range = (-90, 90)\n",
    "lng_range = (-180, 180)\n",
    "\n",
    "# List for holding lat_lngs and cities\n",
    "lat_lngs = []\n",
    "cities = []\n",
    "\n",
    "# Create a set of random lat and lng combinations\n",
    "lats = np.random.uniform(lat_range[0], lat_range[1], size=1500)\n",
    "lngs = np.random.uniform(lng_range[0], lng_range[1], size=1500)\n",
    "lat_lngs = zip(lats, lngs)\n",
    "\n",
    "# Identify nearest city for each lat, lng combination\n",
    "for lat_lng in lat_lngs:\n",
    "    city = citipy.nearest_city(lat_lng[0], lat_lng[1]).city_name\n",
    "    \n",
    "    # If the city is unique, then add it to a our cities list\n",
    "    if city not in cities:\n",
    "        cities.append(city)\n",
    "\n",
    "# Print the city count to confirm sufficient count\n",
    "print(len(cities))\n",
    "\n",
    "print(cities)\n",
    "\n",
    "\n"
   ]
  },
  {
   "cell_type": "code",
   "execution_count": 5,
   "metadata": {},
   "outputs": [
    {
     "data": {
      "text/plain": [
       "{'cod': '400', 'message': 'Nothing to geocode'}"
      ]
     },
     "execution_count": 5,
     "metadata": {},
     "output_type": "execute_result"
    }
   ],
   "source": [
    "requests.get(url).json()"
   ]
  },
  {
   "cell_type": "markdown",
   "metadata": {},
   "source": [
    "### Perform API Calls\n",
    "* Perform a weather check on each city using a series of successive API calls.\n",
    "* Include a print log of each city as it'sbeing processed (with the city number and city name).\n"
   ]
  },
  {
   "cell_type": "code",
   "execution_count": 6,
   "metadata": {
    "scrolled": true
   },
   "outputs": [
    {
     "name": "stdout",
     "output_type": "stream",
     "text": [
      "Processing record 1|berlevag\n",
      "Processing record 2|butaritari\n",
      "Processing record 3|airai\n",
      "Processing record 4|bambous virieux\n",
      "Processing record 5|mount gambier\n",
      "Processing record 6|san patricio\n",
      "Processing record 7|rikitea\n",
      "Processing record 8|pevek\n",
      "Processing record 9|cape town\n",
      "Processing record 10|chuy\n",
      "City not found. skipping.\n",
      "Processing record 11|shingu\n",
      "Processing record 12|mataura\n",
      "Processing record 13|touros\n",
      "Processing record 14|albany\n",
      "Processing record 15|pangnirtung\n",
      "City not found. skipping.\n",
      "Processing record 16|east london\n",
      "Processing record 17|nuevitas\n",
      "Processing record 18|gravdal\n",
      "Processing record 19|longyearbyen\n",
      "Processing record 20|luderitz\n",
      "Processing record 21|kargopol\n",
      "Processing record 22|punta arenas\n",
      "City not found. skipping.\n",
      "Processing record 23|tiksi\n",
      "City not found. skipping.\n",
      "Processing record 24|dikson\n",
      "Processing record 25|bredasdorp\n",
      "Processing record 26|port elizabeth\n",
      "Processing record 27|vostok\n",
      "Processing record 28|hami\n",
      "Processing record 29|busselton\n",
      "Processing record 30|red bluff\n",
      "Processing record 31|hasaki\n",
      "City not found. skipping.\n",
      "Processing record 32|safonovo\n",
      "Processing record 33|belaya gora\n",
      "Processing record 34|barrow\n",
      "Processing record 35|cozumel\n",
      "Processing record 36|ushuaia\n",
      "Processing record 37|bluff\n",
      "Processing record 38|castro\n",
      "Processing record 39|kavieng\n",
      "Processing record 40|puerto ayora\n",
      "Processing record 41|sao filipe\n",
      "Processing record 42|trapani\n",
      "Processing record 43|geraldton\n",
      "Processing record 44|salalah\n",
      "Processing record 45|pregassona\n",
      "Processing record 46|dolores\n",
      "Processing record 47|svetlogorsk\n",
      "City not found. skipping.\n",
      "Processing record 48|hobart\n",
      "Processing record 49|jamestown\n",
      "Processing record 50|victoria\n",
      "Processing record 51|gat\n",
      "Processing record 52|katsuura\n",
      "Processing record 53|yar-sale\n",
      "Processing record 54|sukhodol\n",
      "Processing record 55|hermanus\n",
      "Processing record 56|coruripe\n",
      "Processing record 57|long beach\n",
      "Processing record 58|poum\n",
      "Processing record 59|qaanaaq\n",
      "City not found. skipping.\n",
      "Processing record 60|maniitsoq\n",
      "Processing record 61|new norfolk\n",
      "Processing record 62|chokurdakh\n",
      "Processing record 63|rach gia\n",
      "Processing record 64|bilibino\n",
      "Processing record 65|vaini\n",
      "Processing record 66|militello in val di catania\n",
      "Processing record 67|quang ngai\n",
      "Processing record 68|basco\n",
      "Processing record 69|mar del plata\n",
      "Processing record 70|port alfred\n",
      "City not found. skipping.\n",
      "Processing record 71|aksarka\n",
      "Processing record 72|atar\n",
      "Processing record 73|puerto del rosario\n",
      "Processing record 74|diffa\n",
      "Processing record 75|stranda\n",
      "Processing record 76|makushino\n",
      "Processing record 77|praia\n",
      "Processing record 78|ilulissat\n",
      "Processing record 79|palenque\n",
      "Processing record 80|belyy yar\n",
      "Processing record 81|ribeira grande\n",
      "Processing record 82|neiafu\n",
      "Processing record 83|avarua\n",
      "Processing record 84|plouzane\n",
      "Processing record 85|atuona\n",
      "Processing record 86|yellowknife\n",
      "Processing record 87|digby\n",
      "Processing record 88|saint anthony\n",
      "Processing record 89|lavrentiya\n",
      "Processing record 90|malinovoye ozero\n",
      "Processing record 91|colares\n",
      "Processing record 92|tuktoyaktuk\n",
      "Processing record 93|provideniya\n",
      "Processing record 94|nikolskoye\n",
      "Processing record 95|esna\n",
      "Processing record 96|america dourada\n",
      "Processing record 97|kasempa\n",
      "Processing record 98|kapaa\n",
      "Processing record 99|roma\n",
      "City not found. skipping.\n",
      "City not found. skipping.\n",
      "City not found. skipping.\n",
      "Processing record 100|khatanga\n",
      "Processing record 101|kloulklubed\n",
      "Processing record 102|kamaishi\n",
      "Processing record 103|albina\n",
      "Processing record 104|carutapera\n",
      "Processing record 105|tuensang\n",
      "Processing record 106|mahebourg\n",
      "City not found. skipping.\n",
      "Processing record 107|paamiut\n",
      "Processing record 108|antofagasta\n",
      "City not found. skipping.\n",
      "City not found. skipping.\n",
      "Processing record 109|riohacha\n",
      "Processing record 110|pochutla\n",
      "Processing record 111|saint-philippe\n",
      "Processing record 112|sur\n",
      "Processing record 113|faanui\n",
      "Processing record 114|bonavista\n",
      "Processing record 115|tessalit\n",
      "Processing record 116|kibala\n",
      "Processing record 117|barcelos\n",
      "Processing record 118|pimentel\n",
      "Processing record 119|revelstoke\n",
      "Processing record 120|bethel\n",
      "Processing record 121|asasa\n",
      "Processing record 122|tasiilaq\n",
      "Processing record 123|kiama\n",
      "Processing record 124|beringovskiy\n",
      "Processing record 125|uvira\n",
      "Processing record 126|cidreira\n",
      "Processing record 127|saldanha\n",
      "Processing record 128|fortuna\n",
      "Processing record 129|bafoulabe\n",
      "Processing record 130|madawaska\n",
      "Processing record 131|georgetown\n",
      "Processing record 132|arman\n",
      "Processing record 133|palana\n",
      "Processing record 134|mitu\n",
      "Processing record 135|arraial do cabo\n",
      "Processing record 136|negombo\n",
      "Processing record 137|ovalle\n",
      "Processing record 138|lorengau\n",
      "Processing record 139|kirakira\n",
      "Processing record 140|porosozero\n",
      "Processing record 141|san rafael\n",
      "Processing record 142|sattahip\n",
      "Processing record 143|paita\n",
      "Processing record 144|tuatapere\n",
      "Processing record 145|klaksvik\n",
      "Processing record 146|sitka\n",
      "Processing record 147|vardo\n",
      "City not found. skipping.\n",
      "Processing record 148|ola\n",
      "Processing record 149|hithadhoo\n",
      "Processing record 150|barra do bugres\n",
      "Processing record 151|kez\n",
      "Processing record 152|helmstedt\n",
      "Processing record 153|riyadh\n",
      "City not found. skipping.\n",
      "Processing record 154|greensburg\n",
      "Processing record 155|luanda\n",
      "Processing record 156|canto do buriti\n",
      "Processing record 157|kavaratti\n",
      "Processing record 158|havelock\n",
      "Processing record 159|naryan-mar\n",
      "Processing record 160|samarai\n",
      "Processing record 161|turayf\n",
      "Processing record 162|kondinskoye\n",
      "Processing record 163|saint george\n",
      "Processing record 164|hilo\n",
      "Processing record 165|kuryk\n",
      "Processing record 166|berdigestyakh\n",
      "Processing record 167|adre\n",
      "Processing record 168|lebu\n",
      "Processing record 169|port hardy\n",
      "City not found. skipping.\n",
      "Processing record 170|kruisfontein\n",
      "Processing record 171|saquarema\n",
      "Processing record 172|pacific grove\n",
      "Processing record 173|abu samrah\n",
      "Processing record 174|muncar\n",
      "Processing record 175|qaqortoq\n",
      "City not found. skipping.\n",
      "Processing record 176|kaitangata\n",
      "City not found. skipping.\n",
      "Processing record 177|richards bay\n",
      "Processing record 178|souillac\n",
      "Processing record 179|santiago del estero\n",
      "Processing record 180|morondava\n",
      "Processing record 181|vicuna\n",
      "Processing record 182|maarianhamina\n",
      "Processing record 183|tibati\n",
      "Processing record 184|arroio grande\n",
      "Processing record 185|constitucion\n",
      "City not found. skipping.\n",
      "Processing record 186|clyde river\n",
      "Processing record 187|tyumentsevo\n",
      "Processing record 188|nong phai\n",
      "City not found. skipping.\n",
      "Processing record 189|narsaq\n",
      "Processing record 190|vila velha\n",
      "Processing record 191|kysyl-syr\n",
      "Processing record 192|gilgit\n",
      "Processing record 193|gallup\n",
      "City not found. skipping.\n",
      "City not found. skipping.\n",
      "Processing record 194|kenai\n",
      "Processing record 195|luzhou\n",
      "Processing record 196|sorkjosen\n",
      "Processing record 197|kidal\n",
      "City not found. skipping.\n",
      "Processing record 198|kodiak\n",
      "Processing record 199|boguchany\n",
      "Processing record 200|disna\n",
      "Processing record 201|merritt island\n",
      "Processing record 202|yeppoon\n",
      "Processing record 203|alofi\n",
      "Processing record 204|beaune\n",
      "Processing record 205|yumen\n",
      "Processing record 206|umm lajj\n",
      "Processing record 207|labuhan\n",
      "Processing record 208|iqaluit\n",
      "Processing record 209|romitan\n",
      "Processing record 210|sorland\n",
      "City not found. skipping.\n",
      "Processing record 211|torbay\n",
      "Processing record 212|cabedelo\n",
      "Processing record 213|tundla\n",
      "Processing record 214|katherine\n",
      "Processing record 215|kande\n",
      "Processing record 216|mehamn\n",
      "Processing record 217|fairbanks\n",
      "Processing record 218|ondjiva\n",
      "Processing record 219|nome\n",
      "Processing record 220|dingle\n",
      "Processing record 221|severo-kurilsk\n",
      "Processing record 222|alhandra\n",
      "Processing record 223|bontang\n",
      "Processing record 224|jalu\n",
      "Processing record 225|uyemskiy\n",
      "Processing record 226|kalmunai\n",
      "Processing record 227|saskylakh\n",
      "Processing record 228|pisco\n",
      "Processing record 229|kahului\n",
      "Processing record 230|ozinki\n",
      "Processing record 231|los llanos de aridane\n",
      "Processing record 232|praia da vitoria\n",
      "Processing record 233|port blair\n",
      "Processing record 234|athabasca\n",
      "Processing record 235|hambantota\n",
      "Processing record 236|tahta\n",
      "Processing record 237|aitape\n",
      "Processing record 238|upernavik\n",
      "Processing record 239|buchanan\n",
      "Processing record 240|hansi\n",
      "Processing record 241|wagar\n",
      "Processing record 242|lagoa\n",
      "Processing record 243|prince rupert\n",
      "Processing record 244|karratha\n",
      "Processing record 245|kharovsk\n"
     ]
    },
    {
     "name": "stdout",
     "output_type": "stream",
     "text": [
      "Processing record 246|isangel\n",
      "Processing record 247|zupanja\n",
      "Processing record 248|lynn haven\n",
      "Processing record 249|viedma\n",
      "City not found. skipping.\n",
      "Processing record 250|kocevje\n",
      "City not found. skipping.\n",
      "Processing record 251|ogulin\n",
      "City not found. skipping.\n",
      "Processing record 252|bonthe\n",
      "Processing record 253|coquimbo\n",
      "Processing record 254|makakilo city\n",
      "Processing record 255|mao\n",
      "Processing record 256|stornoway\n",
      "Processing record 257|bilma\n",
      "Processing record 258|dafeng\n",
      "Processing record 259|lidkoping\n",
      "Processing record 260|ponta do sol\n",
      "City not found. skipping.\n",
      "Processing record 261|ostrovnoy\n",
      "Processing record 262|bairiki\n",
      "City not found. skipping.\n",
      "Processing record 263|mahanje\n",
      "Processing record 264|hofn\n",
      "Processing record 265|nioro\n",
      "Processing record 266|pontianak\n",
      "Processing record 267|husavik\n",
      "Processing record 268|nuevo progreso\n",
      "Processing record 269|cherskiy\n",
      "Processing record 270|plettenberg bay\n",
      "Processing record 271|huarmey\n",
      "Processing record 272|ponta delgada\n",
      "Processing record 273|mandalgovi\n",
      "City not found. skipping.\n",
      "Processing record 274|weymouth\n",
      "Processing record 275|kununurra\n",
      "Processing record 276|padang\n",
      "Processing record 277|sola\n",
      "City not found. skipping.\n",
      "Processing record 278|alice springs\n",
      "Processing record 279|tautira\n",
      "Processing record 280|tonekabon\n",
      "Processing record 281|gizo\n",
      "Processing record 282|vilhena\n",
      "Processing record 283|kumano\n",
      "Processing record 284|kamenka\n",
      "City not found. skipping.\n",
      "Processing record 285|gorey\n",
      "Processing record 286|brae\n",
      "Processing record 287|balsas\n",
      "Processing record 288|pemba\n",
      "Processing record 289|broken hill\n",
      "Processing record 290|virginia beach\n",
      "Processing record 291|guerrero negro\n",
      "Processing record 292|yulara\n",
      "Processing record 293|black river\n",
      "Processing record 294|opuwo\n",
      "Processing record 295|thompson\n",
      "Processing record 296|port-gentil\n",
      "Processing record 297|stony plain\n",
      "Processing record 298|nabire\n",
      "Processing record 299|faya\n",
      "Processing record 300|ust-kalmanka\n",
      "Processing record 301|mount holly\n",
      "Processing record 302|cabo san lucas\n",
      "Processing record 303|manacapuru\n",
      "Processing record 304|hovd\n",
      "Processing record 305|kirensk\n",
      "Processing record 306|mufulira\n",
      "Processing record 307|hobbs\n",
      "Processing record 308|moissala\n",
      "Processing record 309|buala\n",
      "Processing record 310|brewster\n",
      "Processing record 311|mananjary\n",
      "Processing record 312|juan lacaze\n",
      "Processing record 313|mecca\n",
      "Processing record 314|doctor juan leon mallorquin\n",
      "Processing record 315|coihaique\n",
      "Processing record 316|margate\n",
      "Processing record 317|okmulgee\n",
      "Processing record 318|talaya\n",
      "Processing record 319|price\n",
      "Processing record 320|marsabit\n",
      "Processing record 321|qasigiannguit\n",
      "Processing record 322|saint-pierre\n",
      "Processing record 323|carnarvon\n",
      "Processing record 324|macenta\n",
      "Processing record 325|beira\n",
      "Processing record 326|sibolga\n",
      "Processing record 327|bassano\n",
      "Processing record 328|san alberto\n",
      "Processing record 329|polyarnyy\n",
      "Processing record 330|kharan\n",
      "Processing record 331|ferme-neuve\n",
      "Processing record 332|shelton\n",
      "Processing record 333|baker\n",
      "Processing record 334|patnos\n",
      "Processing record 335|pucara\n",
      "Processing record 336|vestmannaeyjar\n",
      "Processing record 337|phalaborwa\n",
      "Processing record 338|aksu\n",
      "Processing record 339|cayenne\n",
      "Processing record 340|homer\n",
      "Processing record 341|namatanai\n",
      "Processing record 342|norman wells\n",
      "Processing record 343|pingxiang\n",
      "Processing record 344|talnakh\n",
      "Processing record 345|san jeronimo\n",
      "Processing record 346|algiers\n",
      "Processing record 347|rognan\n",
      "Processing record 348|rocha\n",
      "Processing record 349|maumere\n",
      "Processing record 350|sao joao da barra\n",
      "Processing record 351|manaure\n",
      "Processing record 352|aykhal\n",
      "Processing record 353|lompoc\n",
      "Processing record 354|akdepe\n",
      "Processing record 355|sucre\n",
      "Processing record 356|onguday\n",
      "Processing record 357|barranca\n",
      "Processing record 358|dalhousie\n",
      "Processing record 359|abalak\n",
      "Processing record 360|caravelas\n",
      "Processing record 361|abha\n",
      "Processing record 362|coachella\n",
      "Processing record 363|aloleng\n",
      "Processing record 364|ust-nera\n",
      "Processing record 365|veraval\n",
      "Processing record 366|lluta\n",
      "Processing record 367|lincoln\n",
      "Processing record 368|tokonou\n",
      "Processing record 369|havre-saint-pierre\n",
      "Processing record 370|saint-joseph\n",
      "Processing record 371|ahipara\n",
      "Processing record 372|spolaita\n",
      "Processing record 373|mareeba\n",
      "Processing record 374|san angelo\n",
      "Processing record 375|lakatoro\n",
      "Processing record 376|bayir\n",
      "Processing record 377|nadadores\n",
      "Processing record 378|oakley\n",
      "Processing record 379|prieska\n",
      "Processing record 380|de-kastri\n",
      "Processing record 381|chateauneuf-les-martigues\n",
      "Processing record 382|koungheul\n",
      "Processing record 383|darnah\n",
      "Processing record 384|diamantino\n",
      "Processing record 385|ulaangom\n",
      "Processing record 386|esperance\n",
      "Processing record 387|naze\n",
      "Processing record 388|odweyne\n",
      "City not found. skipping.\n",
      "Processing record 389|leesburg\n",
      "Processing record 390|vorukh\n",
      "Processing record 391|strezhevoy\n",
      "Processing record 392|spornoye\n",
      "City not found. skipping.\n",
      "Processing record 393|westport\n",
      "Processing record 394|palmer\n",
      "Processing record 395|nicolas bravo\n",
      "Processing record 396|maun\n",
      "Processing record 397|ofunato\n",
      "City not found. skipping.\n",
      "Processing record 398|mitsamiouli\n",
      "Processing record 399|mount isa\n",
      "Processing record 400|changji\n",
      "Processing record 401|ust-koksa\n",
      "Processing record 402|aswan\n",
      "Processing record 403|laguna\n",
      "City not found. skipping.\n",
      "Processing record 404|horsham\n",
      "Processing record 405|kupang\n",
      "Processing record 406|namibe\n",
      "Processing record 407|pombas\n",
      "Processing record 408|ambilobe\n",
      "Processing record 409|yako\n",
      "Processing record 410|chenghai\n",
      "Processing record 411|chuka\n",
      "Processing record 412|saint-georges\n",
      "Processing record 413|vaitape\n",
      "Processing record 414|george\n",
      "Processing record 415|joshimath\n",
      "Processing record 416|dorado\n",
      "Processing record 417|kapit\n",
      "Processing record 418|hailar\n",
      "Processing record 419|oskarshamn\n",
      "Processing record 420|santa rosalia\n",
      "Processing record 421|tayga\n",
      "Processing record 422|sisimiut\n",
      "Processing record 423|goias\n",
      "Processing record 424|estelle\n",
      "Processing record 425|nanortalik\n",
      "Processing record 426|kant\n",
      "Processing record 427|saravan\n",
      "Processing record 428|tual\n",
      "Processing record 429|beyneu\n",
      "Processing record 430|nouakchott\n",
      "Processing record 431|ancud\n",
      "City not found. skipping.\n",
      "Processing record 432|tokur\n",
      "Processing record 433|banda aceh\n",
      "Processing record 434|am timan\n",
      "Processing record 435|half moon bay\n",
      "Processing record 436|shimoda\n",
      "Processing record 437|sterling\n",
      "Processing record 438|manhattan\n",
      "Processing record 439|correntina\n",
      "Processing record 440|tura\n",
      "Processing record 441|dukat\n",
      "Processing record 442|bengkulu\n",
      "Processing record 443|cockburn town\n",
      "Processing record 444|san quintin\n",
      "Processing record 445|palmas\n",
      "Processing record 446|talakan\n",
      "Processing record 447|tukrah\n",
      "Processing record 448|hamilton\n",
      "Processing record 449|sambava\n",
      "Processing record 450|san policarpo\n",
      "Processing record 451|atambua\n",
      "Processing record 452|emba\n",
      "City not found. skipping.\n",
      "Processing record 453|bandarbeyla\n",
      "Processing record 454|verkhnevilyuysk\n",
      "City not found. skipping.\n",
      "Processing record 455|jacksonville\n",
      "Processing record 456|lasa\n",
      "Processing record 457|oranjemund\n",
      "Processing record 458|yelkhovka\n",
      "Processing record 459|charters towers\n",
      "Processing record 460|lardos\n",
      "Processing record 461|beipiao\n",
      "Processing record 462|tucurui\n",
      "Processing record 463|yola\n",
      "Processing record 464|guangyuan\n",
      "Processing record 465|kodinsk\n",
      "Processing record 466|belmopan\n",
      "City not found. skipping.\n",
      "Processing record 467|whitianga\n",
      "Processing record 468|kangaatsiaq\n",
      "Processing record 469|concepcion del oro\n",
      "Processing record 470|davorlim\n",
      "Processing record 471|soure\n",
      "Processing record 472|houma\n",
      "Processing record 473|santiago\n",
      "Processing record 474|fort-shevchenko\n",
      "Processing record 475|parana\n",
      "Processing record 476|ugoofaaru\n",
      "Processing record 477|harper\n",
      "Processing record 478|jinchang\n",
      "Processing record 479|mountain home\n",
      "Processing record 480|falam\n",
      "Processing record 481|sabzevar\n",
      "Processing record 482|tacna\n",
      "Processing record 483|suez\n",
      "Processing record 484|beloha\n",
      "Processing record 485|ayan\n",
      "Processing record 486|kieta\n",
      "Processing record 487|bayeux\n",
      "Processing record 488|lerwick\n",
      "Processing record 489|labrea\n",
      "Processing record 490|murgab\n",
      "Processing record 491|sibu\n",
      "Processing record 492|khuzdar\n",
      "Processing record 493|sobolevo\n",
      "Processing record 494|puerto baquerizo moreno\n",
      "Processing record 495|balabac\n",
      "Processing record 496|ullal\n"
     ]
    },
    {
     "name": "stdout",
     "output_type": "stream",
     "text": [
      "Processing record 497|jiaocheng\n",
      "Processing record 498|malanje\n",
      "Processing record 499|samana\n",
      "Processing record 500|angoche\n",
      "Processing record 501|noyabrsk\n",
      "Processing record 502|betong\n",
      "City not found. skipping.\n",
      "Processing record 503|port lincoln\n",
      "Processing record 504|piacabucu\n",
      "Processing record 505|ust-ishim\n",
      "Processing record 506|avera\n",
      "Processing record 507|corrente\n",
      "Processing record 508|antalaha\n",
      "Processing record 509|darhan\n",
      "Processing record 510|bereda\n",
      "Processing record 511|ridgecrest\n",
      "Processing record 512|wangqing\n",
      "Processing record 513|redmond\n",
      "City not found. skipping.\n",
      "Processing record 514|neuquen\n",
      "Processing record 515|asau\n",
      "Processing record 516|sibiti\n",
      "Processing record 517|hokitika\n",
      "Processing record 518|cochabamba\n",
      "Processing record 519|moree\n",
      "Processing record 520|new glasgow\n",
      "City not found. skipping.\n",
      "City not found. skipping.\n",
      "Processing record 521|flinders\n",
      "Processing record 522|mainburg\n",
      "City not found. skipping.\n",
      "City not found. skipping.\n",
      "Processing record 523|shipley\n",
      "Processing record 524|huilong\n",
      "Processing record 525|barsovo\n",
      "Processing record 526|filadelfia\n",
      "Processing record 527|barcelona\n",
      "Processing record 528|san cristobal\n",
      "Processing record 529|gubkinskiy\n",
      "Processing record 530|bima\n",
      "Processing record 531|shubarkuduk\n",
      "Processing record 532|tabou\n",
      "Processing record 533|tigil\n",
      "Processing record 534|emborion\n",
      "Processing record 535|mirnyy\n",
      "Processing record 536|kasongo-lunda\n",
      "Processing record 537|pangai\n",
      "Processing record 538|batagay\n",
      "Processing record 539|igrim\n",
      "Processing record 540|barao de melgaco\n",
      "Processing record 541|tilichiki\n",
      "Processing record 542|ronda\n",
      "Processing record 543|belem de sao francisco\n",
      "Processing record 544|chernyshevskiy\n",
      "Processing record 545|ambanja\n",
      "Processing record 546|orocue\n",
      "Processing record 547|yermolayevo\n",
      "Processing record 548|idappadi\n",
      "Processing record 549|saint-augustin\n",
      "Processing record 550|tiznit\n",
      "Processing record 551|marshall\n",
      "Processing record 552|nipawin\n",
      "Processing record 553|nago\n",
      "Processing record 554|maloy\n",
      "Processing record 555|kollam\n",
      "Processing record 556|amparafaravola\n",
      "Processing record 557|sayla\n",
      "Processing record 558|sao gabriel da cachoeira\n"
     ]
    }
   ],
   "source": [
    "url = \"http://api.openweathermap.org/data/2.5/weather?units=Imperial&\"\n",
    "\n",
    "# set lists for the dataframe\n",
    "city_two = []\n",
    "cloudinesses = []\n",
    "dates = []\n",
    "humidities = []\n",
    "lats = []\n",
    "lngs = []\n",
    "max_temps = []\n",
    "wind_speeds = []\n",
    "countries = []\n",
    "\n",
    "# set initial count quantities for organization\n",
    "#count_one = 0\n",
    "#set_one = 1\n",
    "\n",
    "#Looping through cities to make api calls using city as query\n",
    "i = 1\n",
    "for city in cities:\n",
    "    city=city\n",
    "    query_url = url + \"appid=\" + weather_api_key + \"&q=\" + city\n",
    "    response = requests.get(query_url).json()    \n",
    "    \n",
    "    \n",
    "    \n",
    "    try:\n",
    "        cloudinesses.append(response['clouds']['all'])\n",
    "        countries.append(response['sys']['country'])\n",
    "        dates.append(response['dt'])\n",
    "        humidities.append(response['main']['humidity'])\n",
    "        lats.append(response['coord']['lat'])\n",
    "        lngs.append(response['coord']['lon'])\n",
    "        max_temps.append(response['main']['temp_max'])\n",
    "        wind_speeds.append(response['wind']['speed'])\n",
    "        print(f\"Processing record {i}|{city}\")\n",
    "        i+=1\n",
    "    except (KeyError):\n",
    "        print(\"City not found. skipping.\")"
   ]
  },
  {
   "cell_type": "code",
   "execution_count": 7,
   "metadata": {},
   "outputs": [
    {
     "data": {
      "text/html": [
       "<div>\n",
       "<style scoped>\n",
       "    .dataframe tbody tr th:only-of-type {\n",
       "        vertical-align: middle;\n",
       "    }\n",
       "\n",
       "    .dataframe tbody tr th {\n",
       "        vertical-align: top;\n",
       "    }\n",
       "\n",
       "    .dataframe thead th {\n",
       "        text-align: right;\n",
       "    }\n",
       "</style>\n",
       "<table border=\"1\" class=\"dataframe\">\n",
       "  <thead>\n",
       "    <tr style=\"text-align: right;\">\n",
       "      <th></th>\n",
       "      <th>City Name</th>\n",
       "      <th>Cloudiness</th>\n",
       "      <th>Country</th>\n",
       "      <th>Date</th>\n",
       "      <th>Humidity</th>\n",
       "      <th>Latitude</th>\n",
       "      <th>Longitude</th>\n",
       "      <th>Max Temp</th>\n",
       "      <th>Wind Speed</th>\n",
       "    </tr>\n",
       "  </thead>\n",
       "  <tbody>\n",
       "    <tr>\n",
       "      <th>0</th>\n",
       "      <td>London</td>\n",
       "      <td>20</td>\n",
       "      <td>NO</td>\n",
       "      <td>1628967551</td>\n",
       "      <td>86</td>\n",
       "      <td>70.8578</td>\n",
       "      <td>29.0864</td>\n",
       "      <td>48.58</td>\n",
       "      <td>9.55</td>\n",
       "    </tr>\n",
       "    <tr>\n",
       "      <th>1</th>\n",
       "      <td>London</td>\n",
       "      <td>100</td>\n",
       "      <td>KI</td>\n",
       "      <td>1628967551</td>\n",
       "      <td>77</td>\n",
       "      <td>3.0707</td>\n",
       "      <td>172.7902</td>\n",
       "      <td>81.16</td>\n",
       "      <td>8.05</td>\n",
       "    </tr>\n",
       "    <tr>\n",
       "      <th>2</th>\n",
       "      <td>London</td>\n",
       "      <td>4</td>\n",
       "      <td>TL</td>\n",
       "      <td>1628967552</td>\n",
       "      <td>77</td>\n",
       "      <td>-8.9266</td>\n",
       "      <td>125.4092</td>\n",
       "      <td>54.21</td>\n",
       "      <td>3.40</td>\n",
       "    </tr>\n",
       "    <tr>\n",
       "      <th>3</th>\n",
       "      <td>London</td>\n",
       "      <td>75</td>\n",
       "      <td>MU</td>\n",
       "      <td>1628967312</td>\n",
       "      <td>78</td>\n",
       "      <td>-20.3428</td>\n",
       "      <td>57.7575</td>\n",
       "      <td>71.85</td>\n",
       "      <td>14.97</td>\n",
       "    </tr>\n",
       "    <tr>\n",
       "      <th>4</th>\n",
       "      <td>London</td>\n",
       "      <td>90</td>\n",
       "      <td>AU</td>\n",
       "      <td>1628967552</td>\n",
       "      <td>93</td>\n",
       "      <td>-37.8333</td>\n",
       "      <td>140.7667</td>\n",
       "      <td>48.11</td>\n",
       "      <td>12.66</td>\n",
       "    </tr>\n",
       "    <tr>\n",
       "      <th>5</th>\n",
       "      <td>London</td>\n",
       "      <td>89</td>\n",
       "      <td>US</td>\n",
       "      <td>1628967553</td>\n",
       "      <td>46</td>\n",
       "      <td>28.0170</td>\n",
       "      <td>-97.5169</td>\n",
       "      <td>95.09</td>\n",
       "      <td>9.78</td>\n",
       "    </tr>\n",
       "    <tr>\n",
       "      <th>6</th>\n",
       "      <td>London</td>\n",
       "      <td>26</td>\n",
       "      <td>PF</td>\n",
       "      <td>1628967553</td>\n",
       "      <td>82</td>\n",
       "      <td>-23.1203</td>\n",
       "      <td>-134.9692</td>\n",
       "      <td>74.41</td>\n",
       "      <td>18.21</td>\n",
       "    </tr>\n",
       "    <tr>\n",
       "      <th>7</th>\n",
       "      <td>London</td>\n",
       "      <td>100</td>\n",
       "      <td>RU</td>\n",
       "      <td>1628967046</td>\n",
       "      <td>97</td>\n",
       "      <td>69.7008</td>\n",
       "      <td>170.3133</td>\n",
       "      <td>35.67</td>\n",
       "      <td>16.98</td>\n",
       "    </tr>\n",
       "    <tr>\n",
       "      <th>8</th>\n",
       "      <td>London</td>\n",
       "      <td>0</td>\n",
       "      <td>ZA</td>\n",
       "      <td>1628967437</td>\n",
       "      <td>68</td>\n",
       "      <td>-33.9258</td>\n",
       "      <td>18.4232</td>\n",
       "      <td>56.12</td>\n",
       "      <td>1.01</td>\n",
       "    </tr>\n",
       "    <tr>\n",
       "      <th>9</th>\n",
       "      <td>London</td>\n",
       "      <td>99</td>\n",
       "      <td>UY</td>\n",
       "      <td>1628967554</td>\n",
       "      <td>90</td>\n",
       "      <td>-33.6971</td>\n",
       "      <td>-53.4616</td>\n",
       "      <td>57.72</td>\n",
       "      <td>6.76</td>\n",
       "    </tr>\n",
       "  </tbody>\n",
       "</table>\n",
       "</div>"
      ],
      "text/plain": [
       "  City Name  Cloudiness Country        Date  Humidity  Latitude  Longitude  \\\n",
       "0    London          20      NO  1628967551        86   70.8578    29.0864   \n",
       "1    London         100      KI  1628967551        77    3.0707   172.7902   \n",
       "2    London           4      TL  1628967552        77   -8.9266   125.4092   \n",
       "3    London          75      MU  1628967312        78  -20.3428    57.7575   \n",
       "4    London          90      AU  1628967552        93  -37.8333   140.7667   \n",
       "5    London          89      US  1628967553        46   28.0170   -97.5169   \n",
       "6    London          26      PF  1628967553        82  -23.1203  -134.9692   \n",
       "7    London         100      RU  1628967046        97   69.7008   170.3133   \n",
       "8    London           0      ZA  1628967437        68  -33.9258    18.4232   \n",
       "9    London          99      UY  1628967554        90  -33.6971   -53.4616   \n",
       "\n",
       "   Max Temp  Wind Speed  \n",
       "0     48.58        9.55  \n",
       "1     81.16        8.05  \n",
       "2     54.21        3.40  \n",
       "3     71.85       14.97  \n",
       "4     48.11       12.66  \n",
       "5     95.09        9.78  \n",
       "6     74.41       18.21  \n",
       "7     35.67       16.98  \n",
       "8     56.12        1.01  \n",
       "9     57.72        6.76  "
      ]
     },
     "execution_count": 7,
     "metadata": {},
     "output_type": "execute_result"
    }
   ],
   "source": [
    "#city_df = pd.DataFrame(city_info,columns = columns)\n",
    "#city_df\n",
    "\n",
    "city_df = pd.DataFrame({\"City Name\":city_name, \n",
    "                        \"Cloudiness\":cloudinesses, \n",
    "                        \"Country\":countries, \n",
    "                        \"Date\":dates, \n",
    "                        \"Humidity\":humidities,\n",
    "                        \"Latitude\":lats,\n",
    "                        \"Longitude\":lngs,\n",
    "                        \"Max Temp\":max_temps,\n",
    "                        \"Wind Speed\":wind_speeds\n",
    "                                         })\n",
    "city_df.head(10)"
   ]
  },
  {
   "cell_type": "markdown",
   "metadata": {},
   "source": [
    "### Convert Raw Data to DataFrame\n",
    "* Export the city data into a .csv.\n",
    "* Display the DataFrame"
   ]
  },
  {
   "cell_type": "code",
   "execution_count": 8,
   "metadata": {},
   "outputs": [],
   "source": [
    "city_df.to_csv(index=False)\n",
    "# Output File (CSV)\n",
    "output_data_file = \"weather_city_file.csv\"\n",
    "city_df.to_csv(output_data_file)\n",
    "\n"
   ]
  },
  {
   "cell_type": "code",
   "execution_count": 9,
   "metadata": {},
   "outputs": [
    {
     "name": "stdout",
     "output_type": "stream",
     "text": [
      "<class 'pandas.core.frame.DataFrame'>\n",
      "RangeIndex: 558 entries, 0 to 557\n",
      "Data columns (total 9 columns):\n",
      " #   Column      Non-Null Count  Dtype  \n",
      "---  ------      --------------  -----  \n",
      " 0   City Name   558 non-null    object \n",
      " 1   Cloudiness  558 non-null    int64  \n",
      " 2   Country     558 non-null    object \n",
      " 3   Date        558 non-null    int64  \n",
      " 4   Humidity    558 non-null    int64  \n",
      " 5   Latitude    558 non-null    float64\n",
      " 6   Longitude   558 non-null    float64\n",
      " 7   Max Temp    558 non-null    float64\n",
      " 8   Wind Speed  558 non-null    float64\n",
      "dtypes: float64(4), int64(3), object(2)\n",
      "memory usage: 39.4+ KB\n"
     ]
    }
   ],
   "source": [
    "city_df.info()"
   ]
  },
  {
   "cell_type": "markdown",
   "metadata": {},
   "source": [
    "## Inspect the data and remove the cities where the humidity > 100%.\n",
    "----\n",
    "Skip this step if there are no cities that have humidity > 100%. "
   ]
  },
  {
   "cell_type": "code",
   "execution_count": 10,
   "metadata": {},
   "outputs": [
    {
     "data": {
      "text/html": [
       "<div>\n",
       "<style scoped>\n",
       "    .dataframe tbody tr th:only-of-type {\n",
       "        vertical-align: middle;\n",
       "    }\n",
       "\n",
       "    .dataframe tbody tr th {\n",
       "        vertical-align: top;\n",
       "    }\n",
       "\n",
       "    .dataframe thead th {\n",
       "        text-align: right;\n",
       "    }\n",
       "</style>\n",
       "<table border=\"1\" class=\"dataframe\">\n",
       "  <thead>\n",
       "    <tr style=\"text-align: right;\">\n",
       "      <th></th>\n",
       "      <th>City Name</th>\n",
       "      <th>Cloudiness</th>\n",
       "      <th>Country</th>\n",
       "      <th>Date</th>\n",
       "      <th>Humidity</th>\n",
       "      <th>Latitude</th>\n",
       "      <th>Longitude</th>\n",
       "      <th>Max Temp</th>\n",
       "      <th>Wind Speed</th>\n",
       "    </tr>\n",
       "  </thead>\n",
       "  <tbody>\n",
       "    <tr>\n",
       "      <th>79</th>\n",
       "      <td>London</td>\n",
       "      <td>0</td>\n",
       "      <td>RU</td>\n",
       "      <td>1628967574</td>\n",
       "      <td>100</td>\n",
       "      <td>53.6039</td>\n",
       "      <td>91.3903</td>\n",
       "      <td>55.29</td>\n",
       "      <td>4.47</td>\n",
       "    </tr>\n",
       "    <tr>\n",
       "      <th>50</th>\n",
       "      <td>London</td>\n",
       "      <td>0</td>\n",
       "      <td>IL</td>\n",
       "      <td>1628967565</td>\n",
       "      <td>100</td>\n",
       "      <td>31.6100</td>\n",
       "      <td>34.7642</td>\n",
       "      <td>83.08</td>\n",
       "      <td>7.29</td>\n",
       "    </tr>\n",
       "    <tr>\n",
       "      <th>265</th>\n",
       "      <td>London</td>\n",
       "      <td>90</td>\n",
       "      <td>ID</td>\n",
       "      <td>1628967646</td>\n",
       "      <td>100</td>\n",
       "      <td>-0.0333</td>\n",
       "      <td>109.3333</td>\n",
       "      <td>75.18</td>\n",
       "      <td>1.14</td>\n",
       "    </tr>\n",
       "    <tr>\n",
       "      <th>198</th>\n",
       "      <td>London</td>\n",
       "      <td>100</td>\n",
       "      <td>RU</td>\n",
       "      <td>1628967617</td>\n",
       "      <td>99</td>\n",
       "      <td>58.3814</td>\n",
       "      <td>97.4531</td>\n",
       "      <td>59.88</td>\n",
       "      <td>3.13</td>\n",
       "    </tr>\n",
       "    <tr>\n",
       "      <th>133</th>\n",
       "      <td>London</td>\n",
       "      <td>100</td>\n",
       "      <td>CO</td>\n",
       "      <td>1628967590</td>\n",
       "      <td>99</td>\n",
       "      <td>1.1983</td>\n",
       "      <td>-70.1733</td>\n",
       "      <td>71.56</td>\n",
       "      <td>0.98</td>\n",
       "    </tr>\n",
       "    <tr>\n",
       "      <th>...</th>\n",
       "      <td>...</td>\n",
       "      <td>...</td>\n",
       "      <td>...</td>\n",
       "      <td>...</td>\n",
       "      <td>...</td>\n",
       "      <td>...</td>\n",
       "      <td>...</td>\n",
       "      <td>...</td>\n",
       "      <td>...</td>\n",
       "    </tr>\n",
       "    <tr>\n",
       "      <th>152</th>\n",
       "      <td>London</td>\n",
       "      <td>100</td>\n",
       "      <td>SA</td>\n",
       "      <td>1628967455</td>\n",
       "      <td>11</td>\n",
       "      <td>24.6877</td>\n",
       "      <td>46.7219</td>\n",
       "      <td>100.54</td>\n",
       "      <td>7.96</td>\n",
       "    </tr>\n",
       "    <tr>\n",
       "      <th>329</th>\n",
       "      <td>London</td>\n",
       "      <td>5</td>\n",
       "      <td>PK</td>\n",
       "      <td>1628967673</td>\n",
       "      <td>11</td>\n",
       "      <td>28.5833</td>\n",
       "      <td>65.4167</td>\n",
       "      <td>89.80</td>\n",
       "      <td>2.66</td>\n",
       "    </tr>\n",
       "    <tr>\n",
       "      <th>140</th>\n",
       "      <td>London</td>\n",
       "      <td>41</td>\n",
       "      <td>AR</td>\n",
       "      <td>1628967591</td>\n",
       "      <td>10</td>\n",
       "      <td>-34.6177</td>\n",
       "      <td>-68.3301</td>\n",
       "      <td>70.09</td>\n",
       "      <td>10.49</td>\n",
       "    </tr>\n",
       "    <tr>\n",
       "      <th>478</th>\n",
       "      <td>London</td>\n",
       "      <td>7</td>\n",
       "      <td>US</td>\n",
       "      <td>1628967546</td>\n",
       "      <td>10</td>\n",
       "      <td>43.1330</td>\n",
       "      <td>-115.6912</td>\n",
       "      <td>97.25</td>\n",
       "      <td>16.64</td>\n",
       "    </tr>\n",
       "    <tr>\n",
       "      <th>114</th>\n",
       "      <td>London</td>\n",
       "      <td>51</td>\n",
       "      <td>ML</td>\n",
       "      <td>1628967585</td>\n",
       "      <td>9</td>\n",
       "      <td>20.1986</td>\n",
       "      <td>1.0114</td>\n",
       "      <td>101.73</td>\n",
       "      <td>9.64</td>\n",
       "    </tr>\n",
       "  </tbody>\n",
       "</table>\n",
       "<p>558 rows × 9 columns</p>\n",
       "</div>"
      ],
      "text/plain": [
       "    City Name  Cloudiness Country        Date  Humidity  Latitude  Longitude  \\\n",
       "79     London           0      RU  1628967574       100   53.6039    91.3903   \n",
       "50     London           0      IL  1628967565       100   31.6100    34.7642   \n",
       "265    London          90      ID  1628967646       100   -0.0333   109.3333   \n",
       "198    London         100      RU  1628967617        99   58.3814    97.4531   \n",
       "133    London         100      CO  1628967590        99    1.1983   -70.1733   \n",
       "..        ...         ...     ...         ...       ...       ...        ...   \n",
       "152    London         100      SA  1628967455        11   24.6877    46.7219   \n",
       "329    London           5      PK  1628967673        11   28.5833    65.4167   \n",
       "140    London          41      AR  1628967591        10  -34.6177   -68.3301   \n",
       "478    London           7      US  1628967546        10   43.1330  -115.6912   \n",
       "114    London          51      ML  1628967585         9   20.1986     1.0114   \n",
       "\n",
       "     Max Temp  Wind Speed  \n",
       "79      55.29        4.47  \n",
       "50      83.08        7.29  \n",
       "265     75.18        1.14  \n",
       "198     59.88        3.13  \n",
       "133     71.56        0.98  \n",
       "..        ...         ...  \n",
       "152    100.54        7.96  \n",
       "329     89.80        2.66  \n",
       "140     70.09       10.49  \n",
       "478     97.25       16.64  \n",
       "114    101.73        9.64  \n",
       "\n",
       "[558 rows x 9 columns]"
      ]
     },
     "execution_count": 10,
     "metadata": {},
     "output_type": "execute_result"
    }
   ],
   "source": [
    "##new_city_df[new_city_df['humidity'] > 100 ]\n",
    "city_df.sort_values(by='Humidity', ascending=False)\n",
    "\n"
   ]
  },
  {
   "cell_type": "code",
   "execution_count": 11,
   "metadata": {},
   "outputs": [
    {
     "data": {
      "text/html": [
       "<div>\n",
       "<style scoped>\n",
       "    .dataframe tbody tr th:only-of-type {\n",
       "        vertical-align: middle;\n",
       "    }\n",
       "\n",
       "    .dataframe tbody tr th {\n",
       "        vertical-align: top;\n",
       "    }\n",
       "\n",
       "    .dataframe thead th {\n",
       "        text-align: right;\n",
       "    }\n",
       "</style>\n",
       "<table border=\"1\" class=\"dataframe\">\n",
       "  <thead>\n",
       "    <tr style=\"text-align: right;\">\n",
       "      <th></th>\n",
       "      <th>City Name</th>\n",
       "      <th>Cloudiness</th>\n",
       "      <th>Country</th>\n",
       "      <th>Date</th>\n",
       "      <th>Humidity</th>\n",
       "      <th>Latitude</th>\n",
       "      <th>Longitude</th>\n",
       "      <th>Max Temp</th>\n",
       "      <th>Wind Speed</th>\n",
       "    </tr>\n",
       "  </thead>\n",
       "  <tbody>\n",
       "    <tr>\n",
       "      <th>0</th>\n",
       "      <td>London</td>\n",
       "      <td>20</td>\n",
       "      <td>NO</td>\n",
       "      <td>1628967551</td>\n",
       "      <td>86</td>\n",
       "      <td>70.8578</td>\n",
       "      <td>29.0864</td>\n",
       "      <td>48.58</td>\n",
       "      <td>9.55</td>\n",
       "    </tr>\n",
       "    <tr>\n",
       "      <th>1</th>\n",
       "      <td>London</td>\n",
       "      <td>100</td>\n",
       "      <td>KI</td>\n",
       "      <td>1628967551</td>\n",
       "      <td>77</td>\n",
       "      <td>3.0707</td>\n",
       "      <td>172.7902</td>\n",
       "      <td>81.16</td>\n",
       "      <td>8.05</td>\n",
       "    </tr>\n",
       "    <tr>\n",
       "      <th>2</th>\n",
       "      <td>London</td>\n",
       "      <td>4</td>\n",
       "      <td>TL</td>\n",
       "      <td>1628967552</td>\n",
       "      <td>77</td>\n",
       "      <td>-8.9266</td>\n",
       "      <td>125.4092</td>\n",
       "      <td>54.21</td>\n",
       "      <td>3.40</td>\n",
       "    </tr>\n",
       "    <tr>\n",
       "      <th>3</th>\n",
       "      <td>London</td>\n",
       "      <td>75</td>\n",
       "      <td>MU</td>\n",
       "      <td>1628967312</td>\n",
       "      <td>78</td>\n",
       "      <td>-20.3428</td>\n",
       "      <td>57.7575</td>\n",
       "      <td>71.85</td>\n",
       "      <td>14.97</td>\n",
       "    </tr>\n",
       "    <tr>\n",
       "      <th>4</th>\n",
       "      <td>London</td>\n",
       "      <td>90</td>\n",
       "      <td>AU</td>\n",
       "      <td>1628967552</td>\n",
       "      <td>93</td>\n",
       "      <td>-37.8333</td>\n",
       "      <td>140.7667</td>\n",
       "      <td>48.11</td>\n",
       "      <td>12.66</td>\n",
       "    </tr>\n",
       "    <tr>\n",
       "      <th>...</th>\n",
       "      <td>...</td>\n",
       "      <td>...</td>\n",
       "      <td>...</td>\n",
       "      <td>...</td>\n",
       "      <td>...</td>\n",
       "      <td>...</td>\n",
       "      <td>...</td>\n",
       "      <td>...</td>\n",
       "      <td>...</td>\n",
       "    </tr>\n",
       "    <tr>\n",
       "      <th>553</th>\n",
       "      <td>London</td>\n",
       "      <td>99</td>\n",
       "      <td>NO</td>\n",
       "      <td>1628967747</td>\n",
       "      <td>86</td>\n",
       "      <td>61.9353</td>\n",
       "      <td>5.1136</td>\n",
       "      <td>59.05</td>\n",
       "      <td>1.79</td>\n",
       "    </tr>\n",
       "    <tr>\n",
       "      <th>554</th>\n",
       "      <td>London</td>\n",
       "      <td>100</td>\n",
       "      <td>IN</td>\n",
       "      <td>1628967747</td>\n",
       "      <td>86</td>\n",
       "      <td>8.8833</td>\n",
       "      <td>76.6000</td>\n",
       "      <td>78.67</td>\n",
       "      <td>11.34</td>\n",
       "    </tr>\n",
       "    <tr>\n",
       "      <th>555</th>\n",
       "      <td>London</td>\n",
       "      <td>97</td>\n",
       "      <td>MG</td>\n",
       "      <td>1628967748</td>\n",
       "      <td>77</td>\n",
       "      <td>-17.5833</td>\n",
       "      <td>48.2167</td>\n",
       "      <td>62.85</td>\n",
       "      <td>9.42</td>\n",
       "    </tr>\n",
       "    <tr>\n",
       "      <th>556</th>\n",
       "      <td>London</td>\n",
       "      <td>4</td>\n",
       "      <td>IN</td>\n",
       "      <td>1628967748</td>\n",
       "      <td>67</td>\n",
       "      <td>22.5500</td>\n",
       "      <td>71.4667</td>\n",
       "      <td>81.16</td>\n",
       "      <td>17.74</td>\n",
       "    </tr>\n",
       "    <tr>\n",
       "      <th>557</th>\n",
       "      <td>London</td>\n",
       "      <td>73</td>\n",
       "      <td>BR</td>\n",
       "      <td>1628967748</td>\n",
       "      <td>70</td>\n",
       "      <td>-0.1303</td>\n",
       "      <td>-67.0892</td>\n",
       "      <td>82.31</td>\n",
       "      <td>1.59</td>\n",
       "    </tr>\n",
       "  </tbody>\n",
       "</table>\n",
       "<p>555 rows × 9 columns</p>\n",
       "</div>"
      ],
      "text/plain": [
       "    City Name  Cloudiness Country        Date  Humidity  Latitude  Longitude  \\\n",
       "0      London          20      NO  1628967551        86   70.8578    29.0864   \n",
       "1      London         100      KI  1628967551        77    3.0707   172.7902   \n",
       "2      London           4      TL  1628967552        77   -8.9266   125.4092   \n",
       "3      London          75      MU  1628967312        78  -20.3428    57.7575   \n",
       "4      London          90      AU  1628967552        93  -37.8333   140.7667   \n",
       "..        ...         ...     ...         ...       ...       ...        ...   \n",
       "553    London          99      NO  1628967747        86   61.9353     5.1136   \n",
       "554    London         100      IN  1628967747        86    8.8833    76.6000   \n",
       "555    London          97      MG  1628967748        77  -17.5833    48.2167   \n",
       "556    London           4      IN  1628967748        67   22.5500    71.4667   \n",
       "557    London          73      BR  1628967748        70   -0.1303   -67.0892   \n",
       "\n",
       "     Max Temp  Wind Speed  \n",
       "0       48.58        9.55  \n",
       "1       81.16        8.05  \n",
       "2       54.21        3.40  \n",
       "3       71.85       14.97  \n",
       "4       48.11       12.66  \n",
       "..        ...         ...  \n",
       "553     59.05        1.79  \n",
       "554     78.67       11.34  \n",
       "555     62.85        9.42  \n",
       "556     81.16       17.74  \n",
       "557     82.31        1.59  \n",
       "\n",
       "[555 rows x 9 columns]"
      ]
     },
     "execution_count": 11,
     "metadata": {},
     "output_type": "execute_result"
    }
   ],
   "source": [
    "clean_city_df = city_df[city_df['Humidity'] <= 99]\n",
    "clean_city_df\n",
    "\n"
   ]
  },
  {
   "cell_type": "code",
   "execution_count": null,
   "metadata": {},
   "outputs": [],
   "source": []
  },
  {
   "cell_type": "code",
   "execution_count": 12,
   "metadata": {},
   "outputs": [],
   "source": [
    "# Make a new DataFrame equal to the city data to drop all humidity outliers by index.\n",
    "# Passing \"inplace=False\" will make a copy of the city_data DataFrame, which we call \"clean_city_data\".\n"
   ]
  },
  {
   "cell_type": "code",
   "execution_count": null,
   "metadata": {},
   "outputs": [],
   "source": [
    "\n"
   ]
  },
  {
   "cell_type": "markdown",
   "metadata": {},
   "source": [
    "## Plotting the Data\n",
    "* Use proper labeling of the plots using plot titles (including date of analysis) and axes labels.\n",
    "* Save the plotted figures as .pngs."
   ]
  },
  {
   "cell_type": "markdown",
   "metadata": {},
   "source": [
    "## Latitude vs. Temperature Plot"
   ]
  },
  {
   "cell_type": "code",
   "execution_count": 20,
   "metadata": {},
   "outputs": [
    {
     "data": {
      "image/png": "[encoded data removed]",
      "text/plain": [
       "<Figure size 432x288 with 1 Axes>"
      ]
     },
     "metadata": {
      "needs_background": "light"
     },
     "output_type": "display_data"
    },
    {
     "data": {
      "text/plain": [
       "<Figure size 432x288 with 0 Axes>"
      ]
     },
     "metadata": {},
     "output_type": "display_data"
    }
   ],
   "source": [
    "\n",
    "#Creating plot\n",
    "plt.scatter(clean_city_df[\"Latitude\"], clean_city_df[\"Max Temp\"], marker = \"o\", color = \"orange\",edgecolor = \"black\")\n",
    "plt.grid()\n",
    "plt.xlabel(\"Latitude\")\n",
    "plt.ylabel(\"Max Temperature (F)\")\n",
    "plt.title(f\"City Latitude vs. Max Temperature (04/01/20)\")\n",
    "plt.show()\n",
    "plt.savefig(\"City_Latitude_vs_Max_Temperature.png\")"
   ]
  },
  {
   "cell_type": "markdown",
   "metadata": {},
   "source": [
    "## Latitude vs. Humidity Plot"
   ]
  },
  {
   "cell_type": "code",
   "execution_count": null,
   "metadata": {},
   "outputs": [],
   "source": []
  },
  {
   "cell_type": "code",
   "execution_count": 21,
   "metadata": {},
   "outputs": [
    {
     "data": {
      "image/png": "[encoded data removed]",
      "text/plain": [
       "<Figure size 432x288 with 1 Axes>"
      ]
     },
     "metadata": {
      "needs_background": "light"
     },
     "output_type": "display_data"
    },
    {
     "data": {
      "text/plain": [
       "<Figure size 432x288 with 0 Axes>"
      ]
     },
     "metadata": {},
     "output_type": "display_data"
    }
   ],
   "source": [
    "plt.scatter(clean_city_df[\"Latitude\"], clean_city_df[\"Humidity\"], marker = \"o\", color = \"orange\",edgecolor = \"black\")\n",
    "plt.grid()\n",
    "plt.ylim(0, clean_city_df[\"Humidity\"].max()+10)\n",
    "plt.xlabel(\"Latitude\")\n",
    "plt.ylabel(\"Humidity(%)\")\n",
    "plt.title(f\"City Latitude vs. Humidity (04/01/20)\")\n",
    "plt.show()\n",
    "plt.savefig(\"City_Latitude_vs_Humidity.png\")"
   ]
  },
  {
   "cell_type": "markdown",
   "metadata": {},
   "source": [
    "## Latitude vs. Cloudiness Plot"
   ]
  },
  {
   "cell_type": "code",
   "execution_count": null,
   "metadata": {},
   "outputs": [],
   "source": []
  },
  {
   "cell_type": "code",
   "execution_count": 22,
   "metadata": {},
   "outputs": [
    {
     "data": {
      "image/png": "[encoded data removed]",
      "text/plain": [
       "<Figure size 432x288 with 1 Axes>"
      ]
     },
     "metadata": {
      "needs_background": "light"
     },
     "output_type": "display_data"
    },
    {
     "data": {
      "text/plain": [
       "<Figure size 432x288 with 0 Axes>"
      ]
     },
     "metadata": {},
     "output_type": "display_data"
    }
   ],
   "source": [
    "plt.scatter(clean_city_df[\"Latitude\"],clean_city_df[\"Cloudiness\"], marker = \"o\", color = \"orange\",edgecolor = \"black\")\n",
    "plt.grid()\n",
    "plt.xlabel(\"Latitude\")\n",
    "plt.ylabel(\"Cloudiness(%)\")\n",
    "plt.title(f\"City Latitude vs. Cloudiness (04/01/20)\")\n",
    "plt.show()\n",
    "plt.savefig(\"City_Latitude_vs_Cloudiness.png\")"
   ]
  },
  {
   "cell_type": "markdown",
   "metadata": {},
   "source": [
    "## Latitude vs. Wind Speed Plot"
   ]
  },
  {
   "cell_type": "code",
   "execution_count": null,
   "metadata": {},
   "outputs": [],
   "source": []
  },
  {
   "cell_type": "code",
   "execution_count": 23,
   "metadata": {},
   "outputs": [
    {
     "data": {
      "image/png": "[encoded data removed]",
      "text/plain": [
       "<Figure size 432x288 with 1 Axes>"
      ]
     },
     "metadata": {
      "needs_background": "light"
     },
     "output_type": "display_data"
    },
    {
     "data": {
      "text/plain": [
       "<Figure size 432x288 with 0 Axes>"
      ]
     },
     "metadata": {},
     "output_type": "display_data"
    }
   ],
   "source": [
    "plt.scatter(clean_city_df[\"Latitude\"], clean_city_df[\"Wind Speed\"], marker = \"o\", color = \"orange\",edgecolor = \"black\")\n",
    "plt.grid()\n",
    "plt.xlabel(\"Latitude\")\n",
    "plt.ylabel(\"Wind Speed(mph)\")\n",
    "plt.title(f\"City Latitude vs. Wind Speed (04/01/20)\")\n",
    "plt.show()\n",
    "plt.savefig(\"City_Latitude_vs_Wind_Speed_.png\")"
   ]
  },
  {
   "cell_type": "markdown",
   "metadata": {},
   "source": [
    "## Linear Regression"
   ]
  },
  {
   "cell_type": "code",
   "execution_count": 24,
   "metadata": {},
   "outputs": [],
   "source": [
    "N_Hemisphere = clean_city_df.loc[clean_city_df[\"Latitude\"] >= 0]\n",
    "S_Hemisphere = clean_city_df.loc[clean_city_df[\"Latitude\"] < 0]"
   ]
  },
  {
   "cell_type": "code",
   "execution_count": 25,
   "metadata": {},
   "outputs": [],
   "source": [
    "def linear_regression(x,y):\n",
    "    print(f\"The r-squared is : {round(st.pearsonr(x, y)[0],2)}\")\n",
    "    (slope, intercept, rvalue, pvalue, stderr) = linregress(x, y)\n",
    "    regress_values = x * slope + intercept\n",
    "    line_eq = \"y = \" + str(round(slope,2)) + \"x + \" + str(round(intercept,2))\n",
    "    plt.scatter(x, y)\n",
    "    plt.plot(x,regress_values,\"r-\")\n",
    "    return line_eq\n",
    "\n",
    "# Define a fuction for annotating\n",
    "def annotate(line_eq, a, b):\n",
    "    plt.annotate(line_eq,(a,b),fontsize=15,color=\"red\")"
   ]
  },
  {
   "cell_type": "markdown",
   "metadata": {},
   "source": [
    "####  Northern Hemisphere - Max Temp vs. Latitude Linear Regression"
   ]
  },
  {
   "cell_type": "code",
   "execution_count": 26,
   "metadata": {},
   "outputs": [
    {
     "name": "stdout",
     "output_type": "stream",
     "text": [
      "The r-squared is : -0.66\n"
     ]
    },
    {
     "data": {
      "image/png": "[encoded data removed]",
      "text/plain": [
       "<Figure size 432x288 with 1 Axes>"
      ]
     },
     "metadata": {
      "needs_background": "light"
     },
     "output_type": "display_data"
    }
   ],
   "source": [
    "equation = linear_regression(N_Hemisphere[\"Latitude\"], N_Hemisphere[\"Max Temp\"])\n",
    "\n",
    "plt.title(\"Northern Hemisphere - Max Temp vs. Latitude Linear Regression\")\n",
    "plt.xlabel(\"Latitude\")\n",
    "plt.ylabel(\"Max Temp (F)\")\n",
    "\n",
    "annotate(equation, -20, 30)\n",
    "\n",
    "plt.savefig(\"Northern_Hemisphere_Max Temp_vs_Latitude_Linear_Regression.png\")\n",
    "\n"
   ]
  },
  {
   "cell_type": "code",
   "execution_count": null,
   "metadata": {},
   "outputs": [],
   "source": []
  },
  {
   "cell_type": "markdown",
   "metadata": {},
   "source": [
    "####  Southern Hemisphere - Max Temp vs. Latitude Linear Regression"
   ]
  },
  {
   "cell_type": "code",
   "execution_count": null,
   "metadata": {},
   "outputs": [],
   "source": []
  },
  {
   "cell_type": "code",
   "execution_count": 27,
   "metadata": {},
   "outputs": [
    {
     "name": "stdout",
     "output_type": "stream",
     "text": [
      "The r-squared is : 0.77\n"
     ]
    },
    {
     "data": {
      "image/png": "[encoded data removed]",
      "text/plain": [
       "<Figure size 432x288 with 1 Axes>"
      ]
     },
     "metadata": {
      "needs_background": "light"
     },
     "output_type": "display_data"
    }
   ],
   "source": [
    "equation = linear_regression(S_Hemisphere[\"Latitude\"],S_Hemisphere[\"Max Temp\"])\n",
    "\n",
    "plt.title(\"Southern Hemisphere - Max Temp vs. Latitude Linear Regression\")\n",
    "plt.xlabel(\"Latitude\")\n",
    "plt.ylabel(\"Max Temp (F)\")\n",
    "\n",
    "annotate(equation, -20, 30)\n",
    "\n",
    "plt.savefig(\"Southern_Hemisphere_Max_Temp_vs_Latitude_Linear_Regression.png\")\n"
   ]
  },
  {
   "cell_type": "markdown",
   "metadata": {},
   "source": [
    "####  Northern Hemisphere - Humidity (%) vs. Latitude Linear Regression"
   ]
  },
  {
   "cell_type": "code",
   "execution_count": null,
   "metadata": {},
   "outputs": [],
   "source": []
  },
  {
   "cell_type": "code",
   "execution_count": 28,
   "metadata": {},
   "outputs": [
    {
     "name": "stdout",
     "output_type": "stream",
     "text": [
      "The r-squared is : 0.14\n"
     ]
    },
    {
     "data": {
      "image/png": "[encoded data removed]",
      "text/plain": [
       "<Figure size 432x288 with 1 Axes>"
      ]
     },
     "metadata": {
      "needs_background": "light"
     },
     "output_type": "display_data"
    }
   ],
   "source": [
    "equation = linear_regression(N_Hemisphere[\"Latitude\"], N_Hemisphere[\"Humidity\"])\n",
    "\n",
    "plt.title(\"Northern Hemisphere - Humidity (%) vs. Latitude Linear Regression\")\n",
    "plt.xlabel(\"Latitude\")\n",
    "plt.ylabel(\"Humidity (%)\")\n",
    "\n",
    "annotate(equation, 20, 30)\n",
    "\n",
    "plt.savefig(\"Northern_Hemisphere_Humidity_vs_Latitude_Linear_Regression.png\")"
   ]
  },
  {
   "cell_type": "markdown",
   "metadata": {},
   "source": [
    "####  Southern Hemisphere - Humidity (%) vs. Latitude Linear Regression"
   ]
  },
  {
   "cell_type": "code",
   "execution_count": null,
   "metadata": {},
   "outputs": [],
   "source": []
  },
  {
   "cell_type": "code",
   "execution_count": 29,
   "metadata": {},
   "outputs": [
    {
     "name": "stdout",
     "output_type": "stream",
     "text": [
      "The r-squared is : -0.03\n"
     ]
    },
    {
     "data": {
      "image/png": "[encoded data removed]",
      "text/plain": [
       "<Figure size 432x288 with 1 Axes>"
      ]
     },
     "metadata": {
      "needs_background": "light"
     },
     "output_type": "display_data"
    }
   ],
   "source": [
    "equation = linear_regression(S_Hemisphere[\"Latitude\"], S_Hemisphere[\"Humidity\"])\n",
    "\n",
    "plt.title(\"Southern Hemisphere - Humidity (%) vs. Latitude Linear Regression\")\n",
    "plt.xlabel(\"Latitude\")\n",
    "plt.ylabel(\"Humidity (%)\")\n",
    "\n",
    "annotate(equation, -20, 30)\n",
    "\n",
    "plt.savefig(\"Southern_Hemisphere_Humidity_vs_Latitude_Linear_Regression.png\")"
   ]
  },
  {
   "cell_type": "markdown",
   "metadata": {},
   "source": [
    "####  Northern Hemisphere - Cloudiness (%) vs. Latitude Linear Regression"
   ]
  },
  {
   "cell_type": "code",
   "execution_count": null,
   "metadata": {},
   "outputs": [],
   "source": []
  },
  {
   "cell_type": "code",
   "execution_count": 30,
   "metadata": {},
   "outputs": [
    {
     "name": "stdout",
     "output_type": "stream",
     "text": [
      "The r-squared is : 0.05\n"
     ]
    },
    {
     "data": {
      "image/png": "[encoded data removed]",
      "text/plain": [
       "<Figure size 432x288 with 1 Axes>"
      ]
     },
     "metadata": {
      "needs_background": "light"
     },
     "output_type": "display_data"
    }
   ],
   "source": [
    "equation = linear_regression(N_Hemisphere[\"Latitude\"], N_Hemisphere[\"Cloudiness\"])\n",
    "\n",
    "plt.title(\"Southern Hemisphere - Humidity (%) vs. Latitude Linear Regression\")\n",
    "plt.xlabel(\"Latitude\")\n",
    "plt.ylabel(\"Cloudiness\")\n",
    "\n",
    "annotate(equation, -20, 30)\n",
    "\n",
    "plt.savefig(\"Northern_Hemisphere_Cloudiness_vs_Latitude_Linear_Regression.png\")"
   ]
  },
  {
   "cell_type": "markdown",
   "metadata": {},
   "source": [
    "####  Southern Hemisphere - Cloudiness (%) vs. Latitude Linear Regression"
   ]
  },
  {
   "cell_type": "code",
   "execution_count": null,
   "metadata": {},
   "outputs": [],
   "source": []
  },
  {
   "cell_type": "code",
   "execution_count": 31,
   "metadata": {},
   "outputs": [
    {
     "name": "stdout",
     "output_type": "stream",
     "text": [
      "The r-squared is : -0.02\n"
     ]
    },
    {
     "data": {
      "image/png": "[encoded data removed]",
      "text/plain": [
       "<Figure size 432x288 with 1 Axes>"
      ]
     },
     "metadata": {
      "needs_background": "light"
     },
     "output_type": "display_data"
    }
   ],
   "source": [
    "equation = linear_regression(S_Hemisphere[\"Latitude\"], S_Hemisphere[\"Cloudiness\"])\n",
    "\n",
    "plt.title(\"Southern Hemisphere - Humidity (%) vs. Latitude Linear Regression\")\n",
    "plt.xlabel(\"Latitude\")\n",
    "plt.ylabel(\"Cloudiness\")\n",
    "\n",
    "annotate(equation, -20, 30)\n",
    "\n",
    "plt.savefig(\"Southern_Hemisphere_Cloudiness_vs_Latitude_Linear_Regression.png\")"
   ]
  },
  {
   "cell_type": "markdown",
   "metadata": {},
   "source": [
    "####  Northern Hemisphere - Wind Speed (mph) vs. Latitude Linear Regression"
   ]
  },
  {
   "cell_type": "code",
   "execution_count": null,
   "metadata": {},
   "outputs": [],
   "source": []
  },
  {
   "cell_type": "code",
   "execution_count": 32,
   "metadata": {},
   "outputs": [
    {
     "name": "stdout",
     "output_type": "stream",
     "text": [
      "The r-squared is : 0.08\n"
     ]
    },
    {
     "data": {
      "image/png": "[encoded data removed]",
      "text/plain": [
       "<Figure size 432x288 with 1 Axes>"
      ]
     },
     "metadata": {
      "needs_background": "light"
     },
     "output_type": "display_data"
    }
   ],
   "source": [
    "equation = linear_regression(N_Hemisphere[\"Latitude\"], N_Hemisphere[\"Wind Speed\"])\n",
    "\n",
    "plt.title(\"Southern Hemisphere - Humidity (%) vs. Latitude Linear Regression\")\n",
    "plt.xlabel(\"Latitude\")\n",
    "plt.ylabel(\"Wind Speed\")\n",
    "\n",
    "annotate(equation, -20, 30)\n",
    "\n",
    "plt.savefig(\"Northern_Hemisphere_Wind_Speed_vs_Latitude_Linear_Regression.png\")\n"
   ]
  },
  {
   "cell_type": "markdown",
   "metadata": {},
   "source": [
    "####  Southern Hemisphere - Wind Speed (mph) vs. Latitude Linear Regression"
   ]
  },
  {
   "cell_type": "code",
   "execution_count": null,
   "metadata": {},
   "outputs": [],
   "source": []
  },
  {
   "cell_type": "code",
   "execution_count": 33,
   "metadata": {},
   "outputs": [
    {
     "name": "stdout",
     "output_type": "stream",
     "text": [
      "The r-squared is : 0.09\n"
     ]
    },
    {
     "data": {
      "image/png": "[encoded data removed]",
      "text/plain": [
       "<Figure size 432x288 with 1 Axes>"
      ]
     },
     "metadata": {
      "needs_background": "light"
     },
     "output_type": "display_data"
    }
   ],
   "source": [
    "equation = linear_regression(S_Hemisphere[\"Latitude\"], S_Hemisphere[\"Wind Speed\"])\n",
    "\n",
    "plt.title(\"Southern Hemisphere - Humidity (%) vs. Latitude Linear Regression\")\n",
    "plt.xlabel(\"Latitude\")\n",
    "plt.ylabel(\"Wind Speed\")\n",
    "\n",
    "annotate(equation, -20, 30)\n",
    "\n",
    "plt.savefig(\"Southern_Hemisphere_Wind Speed_vs_Latitude_Linear_Regression.png\")"
   ]
  },
  {
   "cell_type": "code",
   "execution_count": null,
   "metadata": {},
   "outputs": [],
   "source": []
  }
 ],
 "metadata": {
  "anaconda-cloud": {},
  "kernel_info": {
   "name": "python3"
  },
  "kernelspec": {
   "display_name": "Python 3",
   "language": "python",
   "name": "python3"
  },
  "language_info": {
   "codemirror_mode": {
    "name": "ipython",
    "version": 3
   },
   "file_extension": ".py",
   "mimetype": "text/x-python",
   "name": "python",
   "nbconvert_exporter": "python",
   "pygments_lexer": "ipython3",
   "version": "3.8.8"
  },
  "latex_envs": {
   "LaTeX_envs_menu_present": true,
   "autoclose": false,
   "autocomplete": true,
   "bibliofile": "biblio.bib",
   "cite_by": "apalike",
   "current_citInitial": 1,
   "eqLabelWithNumbers": true,
   "eqNumInitial": 1,
   "hotkeys": {
    "equation": "Ctrl-E",
    "itemize": "Ctrl-I"
   },
   "labels_anchors": false,
   "latex_user_defs": false,
   "report_style_numbering": false,
   "user_envs_cfg": false
  },
  "nteract": {
   "version": "0.12.3"
  }
 },
 "nbformat": 4,
 "nbformat_minor": 2
}
